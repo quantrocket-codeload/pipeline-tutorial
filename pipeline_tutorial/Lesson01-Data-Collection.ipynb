{
 "cells": [
  {
   "cell_type": "markdown",
   "metadata": {},
   "source": [
    "<img alt=\"QuantRocket logo\" src=\"https://www.quantrocket.com/assets/img/notebook-header-logo.png\">\n",
    "\n",
    "<a href=\"https://www.quantrocket.com/disclaimer/\">Disclaimer</a>"
   ]
  },
  {
   "cell_type": "markdown",
   "metadata": {},
   "source": [
    "# Data Collection\n",
    "\n",
    "This tutorial uses the full 1-minute US Stock data bundle. The Pipeline API runs on daily data, so it is also possible to ingest and use a daily database for this tutorial.\n",
    "\n",
    "If you have not already collected the US Stock minute bundle, create an empty bundle called 'usstock-1min':"
   ]
  },
  {
   "cell_type": "code",
   "execution_count": 1,
   "metadata": {},
   "outputs": [
    {
     "data": {
      "text/plain": [
       "{'status': 'success', 'msg': 'successfully created usstock-1min bundle'}"
      ]
     },
     "execution_count": 1,
     "metadata": {},
     "output_type": "execute_result"
    }
   ],
   "source": [
    "from quantrocket.zipline import create_usstock_bundle\n",
    "create_usstock_bundle(\"usstock-1min\")"
   ]
  },
  {
   "cell_type": "markdown",
   "metadata": {},
   "source": [
    "Then ingest the data:"
   ]
  },
  {
   "cell_type": "code",
   "execution_count": 2,
   "metadata": {},
   "outputs": [
    {
     "data": {
      "text/plain": [
       "{'status': 'the data will be ingested asynchronously'}"
      ]
     },
     "execution_count": 2,
     "metadata": {},
     "output_type": "execute_result"
    }
   ],
   "source": [
    "from quantrocket.zipline import ingest_bundle\n",
    "ingest_bundle(\"usstock-1min\")"
   ]
  },
  {
   "cell_type": "markdown",
   "metadata": {},
   "source": [
    "Use flightlog to monitor the progress:\n",
    "\n",
    "```\n",
    "quantrocket.zipline: INFO [usstock-1min] Ingesting minute bars for 18638 securities in usstock-1min bundle\n",
    "quantrocket.zipline: INFO [usstock-1min] Ingesting daily bars for usstock-1min bundle\n",
    "quantrocket.zipline: INFO [usstock-1min] Ingesting adjustments for usstock-1min bundle\n",
    "quantrocket.zipline: INFO [usstock-1min] Ingesting assets for usstock-1min bundle\n",
    "quantrocket.zipline: INFO [usstock-1min] Completed ingesting data for 18638 securities in usstock-1min bundle\n",
    "```"
   ]
  },
  {
   "cell_type": "markdown",
   "metadata": {},
   "source": [
    "---\n",
    "\n",
    "**Next Lesson:** [Why Pipeline?](Lesson02-Why-Pipeline.ipynb) "
   ]
  }
 ],
 "metadata": {
  "kernelspec": {
   "display_name": " Zipline environment",
   "language": "python",
   "name": "zipline"
  },
  "language_info": {
   "codemirror_mode": {
    "name": "ipython",
    "version": 3
   },
   "file_extension": ".py",
   "mimetype": "text/x-python",
   "name": "python",
   "nbconvert_exporter": "python",
   "pygments_lexer": "ipython3",
   "version": "3.6.2"
  }
 },
 "nbformat": 4,
 "nbformat_minor": 4
}
