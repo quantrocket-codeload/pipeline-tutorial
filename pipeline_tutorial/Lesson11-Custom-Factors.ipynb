{
 "cells": [
  {
   "cell_type": "markdown",
   "metadata": {},
   "source": [
    "<a href=\"https://www.quantrocket.com\"><img alt=\"QuantRocket logo\" src=\"https://www.quantrocket.com/assets/img/notebook-header-logo.png\"></a>\n",
    "\n",
    "<a href=\"https://www.quantrocket.com/disclaimer/\">Disclaimer</a>"
   ]
  },
  {
   "cell_type": "markdown",
   "metadata": {},
   "source": [
    "***\n",
    "[Pipeline Tutorial](Introduction.ipynb) › Lesson 11: Custom Factors\n",
    "***"
   ]
  },
  {
   "cell_type": "markdown",
   "metadata": {},
   "source": [
    "# Custom Factors\n",
    "When we first looked at factors, we explored the set of built-in factors. Frequently, a desired computation isn't included as a built-in factor. One of the most powerful features of the Pipeline API is that it allows us to define our own custom factors. When a desired computation doesn't exist as a built-in, we define a custom factor.\n",
    "\n",
    "Conceptually, a custom factor is identical to a built-in factor. It accepts `inputs`, `window_length`, and `mask` as constructor arguments, and returns a `Factor` object each day.\n",
    "\n",
    "Let's take an example of a computation that doesn't exist as a built-in: standard deviation. To create a factor that computes the [standard deviation](https://en.wikipedia.org/wiki/Standard_deviation) over a trailing window, we can subclass `zipline.pipeline.CustomFactor` and implement a compute method whose signature is:\n",
    "\n",
    "\n",
    "```\n",
    "def compute(self, today, asset_ids, out, *inputs):\n",
    "    ...\n",
    "```\n",
    "\n",
    "- `*inputs` are M x N numpy arrays, where M is the `window_length` and N is the number of securities (usually around ~8000 unless a `mask` is provided). `*inputs` are trailing data windows. Note that there will be one M x N array for each `BoundColumn` provided in the factor's `inputs` list. The data type of each array will be the `dtype` of the corresponding `BoundColumn`.\n",
    "- `out` is an empty array of length N. `out` will be the output of our custom factor each day. The job of the `compute` method is to write output values into `out`.\n",
    "- `asset_ids` will be an integer array of length N containing security ids corresponding to the columns in our `*inputs` arrays.\n",
    "- `today` will be a pandas Timestamp representing the day for which `compute` is being called.\n",
    "\n",
    "Of these, `*inputs` and `out` are most commonly used.\n",
    "\n",
    "An instance of `CustomFactor` that has been added to a pipeline will have its compute method called every day. For example, let's define a custom factor that computes the standard deviation of the close price over the last 5 days. To start, let's add `CustomFactor` and `numpy` to our import statements."
   ]
  },
  {
   "cell_type": "code",
   "execution_count": 1,
   "metadata": {},
   "outputs": [],
   "source": [
    "from zipline.pipeline import Pipeline, EquityPricing\n",
    "from zipline.pipeline.factors import CustomFactor\n",
    "from zipline.research import run_pipeline\n",
    "import numpy"
   ]
  },
  {
   "cell_type": "markdown",
   "metadata": {},
   "source": [
    "Next, let's define our custom factor to calculate the standard deviation over a trailing window using `numpy.nanstd`:"
   ]
  },
  {
   "cell_type": "code",
   "execution_count": 2,
   "metadata": {
    "collapsed": false,
    "jupyter": {
     "outputs_hidden": false
    }
   },
   "outputs": [],
   "source": [
    "class StdDev(CustomFactor):\n",
    "    def compute(self, today, asset_ids, out, values):\n",
    "        # Calculates the column-wise standard deviation, ignoring NaNs\n",
    "        out[:] = numpy.nanstd(values, axis=0)"
   ]
  },
  {
   "cell_type": "markdown",
   "metadata": {},
   "source": [
    "Finally, let's instantiate our factor in `make_pipeline()`:"
   ]
  },
  {
   "cell_type": "code",
   "execution_count": 3,
   "metadata": {},
   "outputs": [],
   "source": [
    "def make_pipeline():\n",
    "    std_dev = StdDev(inputs=[EquityPricing.close], window_length=5)\n",
    "\n",
    "    return Pipeline(\n",
    "        columns={\n",
    "            'std_dev': std_dev\n",
    "        }\n",
    "    )"
   ]
  },
  {
   "cell_type": "markdown",
   "metadata": {},
   "source": [
    "When this pipeline is run, `StdDev.compute()` will be called every day with data as follows:\n",
    "\n",
    "- `values`: An M x N numpy array, where M is 5 (`window_length`), and N is ~8000 (the number of securities in our database on the day in question).\n",
    "- `out`: An empty array of length N (~8000). In this example, the job of `compute` is to populate `out` with an array storing the 5-day close price standard deviations."
   ]
  },
  {
   "cell_type": "code",
   "execution_count": 4,
   "metadata": {
    "collapsed": false,
    "jupyter": {
     "outputs_hidden": false
    },
    "scrolled": true
   },
   "outputs": [
    {
     "name": "stderr",
     "output_type": "stream",
     "text": [
      "/opt/conda/lib/python3.9/site-packages/numpy/lib/nanfunctions.py:1670: RuntimeWarning: Degrees of freedom <= 0 for slice.\n",
      "  var = nanvar(a, axis=axis, dtype=dtype, out=out, ddof=ddof,\n"
     ]
    },
    {
     "data": {
      "text/html": [
       "<div>\n",
       "<style scoped>\n",
       "    .dataframe tbody tr th:only-of-type {\n",
       "        vertical-align: middle;\n",
       "    }\n",
       "\n",
       "    .dataframe tbody tr th {\n",
       "        vertical-align: top;\n",
       "    }\n",
       "\n",
       "    .dataframe thead th {\n",
       "        text-align: right;\n",
       "    }\n",
       "</style>\n",
       "<table border=\"1\" class=\"dataframe\">\n",
       "  <thead>\n",
       "    <tr style=\"text-align: right;\">\n",
       "      <th></th>\n",
       "      <th></th>\n",
       "      <th>std_dev</th>\n",
       "    </tr>\n",
       "    <tr>\n",
       "      <th>date</th>\n",
       "      <th>asset</th>\n",
       "      <th></th>\n",
       "    </tr>\n",
       "  </thead>\n",
       "  <tbody>\n",
       "    <tr>\n",
       "      <th rowspan=\"11\" valign=\"top\">2015-05-05 00:00:00+00:00</th>\n",
       "      <th>Equity(FIBBG000C2V3D6 [A])</th>\n",
       "      <td>0.268224</td>\n",
       "    </tr>\n",
       "    <tr>\n",
       "      <th>Equity(QI000000004076 [AABA])</th>\n",
       "      <td>0.801359</td>\n",
       "    </tr>\n",
       "    <tr>\n",
       "      <th>Equity(FIBBG006T1NZ18 [AAC])</th>\n",
       "      <td>1.436195</td>\n",
       "    </tr>\n",
       "    <tr>\n",
       "      <th>Equity(FIBBG000V2S3P6 [AACG])</th>\n",
       "      <td>0.132151</td>\n",
       "    </tr>\n",
       "    <tr>\n",
       "      <th>Equity(FIBBG000BDYRW6 [AADR])</th>\n",
       "      <td>0.067500</td>\n",
       "    </tr>\n",
       "    <tr>\n",
       "      <th>...</th>\n",
       "      <td>...</td>\n",
       "    </tr>\n",
       "    <tr>\n",
       "      <th>Equity(FIBBG0001JCK35 [RBSPE])</th>\n",
       "      <td>NaN</td>\n",
       "    </tr>\n",
       "    <tr>\n",
       "      <th>Equity(FIBBG0001JCK44 [RBSPG])</th>\n",
       "      <td>NaN</td>\n",
       "    </tr>\n",
       "    <tr>\n",
       "      <th>Equity(FIBBG0001JCQT4 [RBSPI])</th>\n",
       "      <td>NaN</td>\n",
       "    </tr>\n",
       "    <tr>\n",
       "      <th>Equity(FIBBG007NFXFG8 [UZB])</th>\n",
       "      <td>0.081388</td>\n",
       "    </tr>\n",
       "    <tr>\n",
       "      <th>Equity(FIBBG0046M31Y3 [WMGIZ])</th>\n",
       "      <td>0.036818</td>\n",
       "    </tr>\n",
       "  </tbody>\n",
       "</table>\n",
       "<p>8292 rows × 1 columns</p>\n",
       "</div>"
      ],
      "text/plain": [
       "                                                           std_dev\n",
       "date                      asset                                   \n",
       "2015-05-05 00:00:00+00:00 Equity(FIBBG000C2V3D6 [A])      0.268224\n",
       "                          Equity(QI000000004076 [AABA])   0.801359\n",
       "                          Equity(FIBBG006T1NZ18 [AAC])    1.436195\n",
       "                          Equity(FIBBG000V2S3P6 [AACG])   0.132151\n",
       "                          Equity(FIBBG000BDYRW6 [AADR])   0.067500\n",
       "...                                                            ...\n",
       "                          Equity(FIBBG0001JCK35 [RBSPE])       NaN\n",
       "                          Equity(FIBBG0001JCK44 [RBSPG])       NaN\n",
       "                          Equity(FIBBG0001JCQT4 [RBSPI])       NaN\n",
       "                          Equity(FIBBG007NFXFG8 [UZB])    0.081388\n",
       "                          Equity(FIBBG0046M31Y3 [WMGIZ])  0.036818\n",
       "\n",
       "[8292 rows x 1 columns]"
      ]
     },
     "execution_count": 4,
     "metadata": {},
     "output_type": "execute_result"
    }
   ],
   "source": [
    "result = run_pipeline(make_pipeline(), start_date='2015-05-05', end_date='2015-05-05')\n",
    "result"
   ]
  },
  {
   "cell_type": "markdown",
   "metadata": {},
   "source": [
    "### Default Inputs\n",
    "When writing a custom factor, we can set default `inputs` and `window_length` in our `CustomFactor` subclass. For example, let's define the `TenDayMeanDifference` custom factor to compute the mean difference between two data columns over a trailing window using `numpy.nanmean`. Let's set the default `inputs` to `[EquityPricing.close, EquityPricing.open]` and the default `window_length` to 10:"
   ]
  },
  {
   "cell_type": "code",
   "execution_count": 5,
   "metadata": {},
   "outputs": [],
   "source": [
    "class TenDayMeanDifference(CustomFactor):\n",
    "    # Default inputs.\n",
    "    inputs = [EquityPricing.close, EquityPricing.open]\n",
    "    window_length = 10\n",
    "    def compute(self, today, asset_ids, out, close, open):\n",
    "        # Calculates the column-wise mean difference, ignoring NaNs\n",
    "        out[:] = numpy.nanmean(close - open, axis=0)"
   ]
  },
  {
   "cell_type": "markdown",
   "metadata": {},
   "source": [
    "<i>Remember in this case that `close` and `open` are each 10 x ~8000 2D numpy arrays.</i>\n",
    "\n",
    "If we call `TenDayMeanDifference` without providing any arguments, it will use the defaults."
   ]
  },
  {
   "cell_type": "code",
   "execution_count": 6,
   "metadata": {},
   "outputs": [],
   "source": [
    "# Computes the 10-day mean difference between the daily open and close prices.\n",
    "close_open_diff = TenDayMeanDifference()"
   ]
  },
  {
   "cell_type": "markdown",
   "metadata": {},
   "source": [
    "The defaults can be manually overridden by specifying arguments in the constructor call."
   ]
  },
  {
   "cell_type": "code",
   "execution_count": 7,
   "metadata": {},
   "outputs": [],
   "source": [
    "# Computes the 10-day mean difference between the daily high and low prices.\n",
    "high_low_diff = TenDayMeanDifference(inputs=[EquityPricing.high, EquityPricing.low])"
   ]
  },
  {
   "cell_type": "markdown",
   "metadata": {},
   "source": [
    "### Further Example\n",
    "Let's take another example where we build a [momentum](http://www.investopedia.com/terms/m/momentum.asp) custom factor and use it to create a filter. We will then use that filter as a `screen` for our pipeline.\n",
    "\n",
    "Let's start by defining a `Momentum` factor to be the division of the most recent close price by the close price from `n` days ago where `n` is the `window_length`."
   ]
  },
  {
   "cell_type": "code",
   "execution_count": 8,
   "metadata": {},
   "outputs": [],
   "source": [
    "class Momentum(CustomFactor):\n",
    "    # Default inputs\n",
    "    inputs = [EquityPricing.close]\n",
    "\n",
    "    # Compute momentum\n",
    "    def compute(self, today, assets, out, close):\n",
    "        out[:] = close[-1] / close[0]"
   ]
  },
  {
   "cell_type": "markdown",
   "metadata": {},
   "source": [
    "Now, let's instantiate our `Momentum` factor (twice) to create a 10-day momentum factor and a 20-day momentum factor. Let's also create a `positive_momentum` filter returning `True` for securities with both a positive 10-day momentum and a positive 20-day momentum."
   ]
  },
  {
   "cell_type": "code",
   "execution_count": 9,
   "metadata": {
    "collapsed": false,
    "jupyter": {
     "outputs_hidden": false
    }
   },
   "outputs": [],
   "source": [
    "ten_day_momentum = Momentum(window_length=10)\n",
    "twenty_day_momentum = Momentum(window_length=20)\n",
    "\n",
    "positive_momentum = ((ten_day_momentum > 1) & (twenty_day_momentum > 1))"
   ]
  },
  {
   "cell_type": "markdown",
   "metadata": {},
   "source": [
    "Next, let's add our momentum factors and our `positive_momentum` filter to `make_pipeline`. Let's also pass `positive_momentum` as a `screen` to our pipeline."
   ]
  },
  {
   "cell_type": "code",
   "execution_count": 10,
   "metadata": {
    "collapsed": false,
    "jupyter": {
     "outputs_hidden": false
    }
   },
   "outputs": [],
   "source": [
    "def make_pipeline():\n",
    "\n",
    "    ten_day_momentum = Momentum(window_length=10)\n",
    "    twenty_day_momentum = Momentum(window_length=20)\n",
    "\n",
    "    positive_momentum = ((ten_day_momentum > 1) & (twenty_day_momentum > 1))\n",
    "\n",
    "    std_dev = StdDev(inputs=[EquityPricing.close], window_length=5)\n",
    "\n",
    "    return Pipeline(\n",
    "        columns={\n",
    "            'std_dev': std_dev,\n",
    "            'ten_day_momentum': ten_day_momentum,\n",
    "            'twenty_day_momentum': twenty_day_momentum\n",
    "        },\n",
    "        screen=positive_momentum\n",
    "    )"
   ]
  },
  {
   "cell_type": "markdown",
   "metadata": {},
   "source": [
    "Running this pipeline outputs the standard deviation and each of our momentum computations for securities with positive 10-day and 20-day momentum."
   ]
  },
  {
   "cell_type": "code",
   "execution_count": 11,
   "metadata": {
    "collapsed": false,
    "jupyter": {
     "outputs_hidden": false
    },
    "scrolled": true
   },
   "outputs": [
    {
     "name": "stderr",
     "output_type": "stream",
     "text": [
      "/opt/conda/lib/python3.9/site-packages/numpy/lib/nanfunctions.py:1670: RuntimeWarning: Degrees of freedom <= 0 for slice.\n",
      "  var = nanvar(a, axis=axis, dtype=dtype, out=out, ddof=ddof,\n"
     ]
    },
    {
     "data": {
      "text/html": [
       "<div>\n",
       "<style scoped>\n",
       "    .dataframe tbody tr th:only-of-type {\n",
       "        vertical-align: middle;\n",
       "    }\n",
       "\n",
       "    .dataframe tbody tr th {\n",
       "        vertical-align: top;\n",
       "    }\n",
       "\n",
       "    .dataframe thead th {\n",
       "        text-align: right;\n",
       "    }\n",
       "</style>\n",
       "<table border=\"1\" class=\"dataframe\">\n",
       "  <thead>\n",
       "    <tr style=\"text-align: right;\">\n",
       "      <th></th>\n",
       "      <th></th>\n",
       "      <th>std_dev</th>\n",
       "      <th>ten_day_momentum</th>\n",
       "      <th>twenty_day_momentum</th>\n",
       "    </tr>\n",
       "    <tr>\n",
       "      <th>date</th>\n",
       "      <th>asset</th>\n",
       "      <th></th>\n",
       "      <th></th>\n",
       "      <th></th>\n",
       "    </tr>\n",
       "  </thead>\n",
       "  <tbody>\n",
       "    <tr>\n",
       "      <th rowspan=\"11\" valign=\"top\">2015-05-05 00:00:00+00:00</th>\n",
       "      <th>Equity(FIBBG006T1NZ18 [AAC])</th>\n",
       "      <td>1.436195</td>\n",
       "      <td>1.033223</td>\n",
       "      <td>1.058478</td>\n",
       "    </tr>\n",
       "    <tr>\n",
       "      <th>Equity(FIBBG000BDYRW6 [AADR])</th>\n",
       "      <td>0.067500</td>\n",
       "      <td>1.004599</td>\n",
       "      <td>1.027848</td>\n",
       "    </tr>\n",
       "    <tr>\n",
       "      <th>Equity(FIBBG000D9V7T4 [PRG])</th>\n",
       "      <td>0.282942</td>\n",
       "      <td>1.217940</td>\n",
       "      <td>1.237892</td>\n",
       "    </tr>\n",
       "    <tr>\n",
       "      <th>Equity(FIBBG000B9XRY4 [AAPL])</th>\n",
       "      <td>1.770774</td>\n",
       "      <td>1.014104</td>\n",
       "      <td>1.021348</td>\n",
       "    </tr>\n",
       "    <tr>\n",
       "      <th>Equity(FIBBG000C5QZ62 [AAV])</th>\n",
       "      <td>0.063056</td>\n",
       "      <td>1.004950</td>\n",
       "      <td>1.074074</td>\n",
       "    </tr>\n",
       "    <tr>\n",
       "      <th>...</th>\n",
       "      <td>...</td>\n",
       "      <td>...</td>\n",
       "      <td>...</td>\n",
       "    </tr>\n",
       "    <tr>\n",
       "      <th>Equity(FIBBG0019HMFX6 [ZIV])</th>\n",
       "      <td>0.398768</td>\n",
       "      <td>1.016408</td>\n",
       "      <td>1.054225</td>\n",
       "    </tr>\n",
       "    <tr>\n",
       "      <th>Equity(FIBBG000H04C72 [ZIXI])</th>\n",
       "      <td>0.091345</td>\n",
       "      <td>1.072639</td>\n",
       "      <td>1.135897</td>\n",
       "    </tr>\n",
       "    <tr>\n",
       "      <th>Equity(FIBBG005WX1JJ7 [ZMLP])</th>\n",
       "      <td>0.139857</td>\n",
       "      <td>1.012349</td>\n",
       "      <td>1.037026</td>\n",
       "    </tr>\n",
       "    <tr>\n",
       "      <th>Equity(FIBBG000RFZLM7 [ZN])</th>\n",
       "      <td>0.032727</td>\n",
       "      <td>1.053191</td>\n",
       "      <td>1.076087</td>\n",
       "    </tr>\n",
       "    <tr>\n",
       "      <th>Equity(FIBBG011MC2100 [AATC])</th>\n",
       "      <td>0.149987</td>\n",
       "      <td>1.139194</td>\n",
       "      <td>1.196154</td>\n",
       "    </tr>\n",
       "  </tbody>\n",
       "</table>\n",
       "<p>2752 rows × 3 columns</p>\n",
       "</div>"
      ],
      "text/plain": [
       "                                                          std_dev  \\\n",
       "date                      asset                                     \n",
       "2015-05-05 00:00:00+00:00 Equity(FIBBG006T1NZ18 [AAC])   1.436195   \n",
       "                          Equity(FIBBG000BDYRW6 [AADR])  0.067500   \n",
       "                          Equity(FIBBG000D9V7T4 [PRG])   0.282942   \n",
       "                          Equity(FIBBG000B9XRY4 [AAPL])  1.770774   \n",
       "                          Equity(FIBBG000C5QZ62 [AAV])   0.063056   \n",
       "...                                                           ...   \n",
       "                          Equity(FIBBG0019HMFX6 [ZIV])   0.398768   \n",
       "                          Equity(FIBBG000H04C72 [ZIXI])  0.091345   \n",
       "                          Equity(FIBBG005WX1JJ7 [ZMLP])  0.139857   \n",
       "                          Equity(FIBBG000RFZLM7 [ZN])    0.032727   \n",
       "                          Equity(FIBBG011MC2100 [AATC])  0.149987   \n",
       "\n",
       "                                                         ten_day_momentum  \\\n",
       "date                      asset                                             \n",
       "2015-05-05 00:00:00+00:00 Equity(FIBBG006T1NZ18 [AAC])           1.033223   \n",
       "                          Equity(FIBBG000BDYRW6 [AADR])          1.004599   \n",
       "                          Equity(FIBBG000D9V7T4 [PRG])           1.217940   \n",
       "                          Equity(FIBBG000B9XRY4 [AAPL])          1.014104   \n",
       "                          Equity(FIBBG000C5QZ62 [AAV])           1.004950   \n",
       "...                                                                   ...   \n",
       "                          Equity(FIBBG0019HMFX6 [ZIV])           1.016408   \n",
       "                          Equity(FIBBG000H04C72 [ZIXI])          1.072639   \n",
       "                          Equity(FIBBG005WX1JJ7 [ZMLP])          1.012349   \n",
       "                          Equity(FIBBG000RFZLM7 [ZN])            1.053191   \n",
       "                          Equity(FIBBG011MC2100 [AATC])          1.139194   \n",
       "\n",
       "                                                         twenty_day_momentum  \n",
       "date                      asset                                               \n",
       "2015-05-05 00:00:00+00:00 Equity(FIBBG006T1NZ18 [AAC])              1.058478  \n",
       "                          Equity(FIBBG000BDYRW6 [AADR])             1.027848  \n",
       "                          Equity(FIBBG000D9V7T4 [PRG])              1.237892  \n",
       "                          Equity(FIBBG000B9XRY4 [AAPL])             1.021348  \n",
       "                          Equity(FIBBG000C5QZ62 [AAV])              1.074074  \n",
       "...                                                                      ...  \n",
       "                          Equity(FIBBG0019HMFX6 [ZIV])              1.054225  \n",
       "                          Equity(FIBBG000H04C72 [ZIXI])             1.135897  \n",
       "                          Equity(FIBBG005WX1JJ7 [ZMLP])             1.037026  \n",
       "                          Equity(FIBBG000RFZLM7 [ZN])               1.076087  \n",
       "                          Equity(FIBBG011MC2100 [AATC])             1.196154  \n",
       "\n",
       "[2752 rows x 3 columns]"
      ]
     },
     "execution_count": 11,
     "metadata": {},
     "output_type": "execute_result"
    }
   ],
   "source": [
    "result = run_pipeline(make_pipeline(), start_date='2015-05-05', end_date='2015-05-05')\n",
    "result"
   ]
  },
  {
   "cell_type": "markdown",
   "metadata": {},
   "source": [
    "Custom factors allow us to define custom computations in a pipeline. They are frequently the best way to perform computations on multiple data columns. The full documentation for CustomFactors is available in the [API Reference](https://www.quantrocket.com/docs/api/#zipline.pipeline.CustomFactor)."
   ]
  },
  {
   "cell_type": "markdown",
   "metadata": {},
   "source": [
    "---\n",
    "\n",
    "**Next Lesson:** [Creating the TradableStocksUS Universe](Lesson12-TradableStocksUS-Universe.ipynb) "
   ]
  }
 ],
 "metadata": {
  "kernelspec": {
   "display_name": "Python 3.9",
   "language": "python",
   "name": "python3"
  },
  "language_info": {
   "codemirror_mode": {
    "name": "ipython",
    "version": 3
   },
   "file_extension": ".py",
   "mimetype": "text/x-python",
   "name": "python",
   "nbconvert_exporter": "python",
   "pygments_lexer": "ipython3",
   "version": "3.9.7"
  }
 },
 "nbformat": 4,
 "nbformat_minor": 4
}
