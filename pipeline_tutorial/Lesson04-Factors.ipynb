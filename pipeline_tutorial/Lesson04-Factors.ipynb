{
 "cells": [
  {
   "cell_type": "markdown",
   "metadata": {},
   "source": [
    "<a href=\"https://www.quantrocket.com\"><img alt=\"QuantRocket logo\" src=\"https://www.quantrocket.com/assets/img/notebook-header-logo.png\"></a>\n",
    "\n",
    "<a href=\"https://www.quantrocket.com/disclaimer/\">Disclaimer</a>"
   ]
  },
  {
   "cell_type": "markdown",
   "metadata": {},
   "source": [
    "# Factors\n",
    "A factor is a function from an asset and a moment in time to a number.\n",
    "```\n",
    "F(asset, timestamp) -> float\n",
    "```\n",
    "In Pipeline, Factors are the most commonly-used term, representing the result of any computation producing a numerical result. Factors require a column of data and a window length as input.\n",
    "\n",
    "The simplest factors in Pipeline are built-in Factors. Built-in Factors are pre-built to perform common computations. As a first example, let's make a factor to compute the average close price over the last 10 days. We can use the `SimpleMovingAverage` built-in factor which computes the average value of the input data (close price) over the specified window length (10 days). To do this, we need to import our built-in `SimpleMovingAverage` factor and the `EquityPricing` dataset."
   ]
  },
  {
   "cell_type": "code",
   "execution_count": 1,
   "metadata": {},
   "outputs": [],
   "source": [
    "# New from the last lesson, import the EquityPricing dataset.\n",
    "from zipline.pipeline import Pipeline, EquityPricing\n",
    "from zipline.research import run_pipeline\n",
    "\n",
    "# New from the last lesson, import the built-in SimpleMovingAverage factor.\n",
    "from zipline.pipeline.factors import SimpleMovingAverage"
   ]
  },
  {
   "cell_type": "markdown",
   "metadata": {},
   "source": [
    "To see the full list of built-in factors, click on the `factors` module in the above import statement then press Control, or see the [API Reference](https://www.quantrocket.com/docs/api/#built-in-factors)."
   ]
  },
  {
   "cell_type": "markdown",
   "metadata": {},
   "source": [
    "## Creating a Factor\n",
    "Let's go back to our `make_pipeline` function from the previous lesson and instantiate a `SimpleMovingAverage` factor. To create a `SimpleMovingAverage` factor, we can call the `SimpleMovingAverage` constructor with two arguments: inputs, which must be a list of `BoundColumn` objects, and window_length, which must be an integer indicating how many days worth of data our moving average calculation should receive. (We'll discuss `BoundColumn` in more depth later; for now we just need to know that a `BoundColumn` is an object indicating what kind of data should be passed to our Factor.).\n",
    "\n",
    "The following line creates a `Factor` for computing the 10-day mean close price of securities."
   ]
  },
  {
   "cell_type": "code",
   "execution_count": 2,
   "metadata": {},
   "outputs": [],
   "source": [
    "mean_close_10 = SimpleMovingAverage(inputs=EquityPricing.close, window_length=10)"
   ]
  },
  {
   "cell_type": "markdown",
   "metadata": {},
   "source": [
    "It's important to note that creating the factor does not actually perform a computation. Creating a factor is like defining the function. To perform a computation, we need to add the factor to our pipeline and run it."
   ]
  },
  {
   "cell_type": "markdown",
   "metadata": {},
   "source": [
    "## Adding a Factor to a Pipeline\n",
    "\n",
    "Let's update our original empty pipeline to make it compute our new moving average factor. To start, let's move our factor instantiation into `make_pipeline`. Next, we can tell our pipeline to compute our factor by passing it a `columns` argument, which should be a dictionary mapping column names to factors, filters, or classifiers. Our updated `make_pipeline` function should look something like this:"
   ]
  },
  {
   "cell_type": "code",
   "execution_count": 3,
   "metadata": {},
   "outputs": [],
   "source": [
    "def make_pipeline():\n",
    "    \n",
    "    mean_close_10 = SimpleMovingAverage(inputs=EquityPricing.close, window_length=10)\n",
    "    \n",
    "    return Pipeline(\n",
    "        columns={\n",
    "            '10_day_mean_close': mean_close_10\n",
    "        }\n",
    "    )"
   ]
  },
  {
   "cell_type": "markdown",
   "metadata": {},
   "source": [
    "To see what this looks like, let's make our pipeline, run it, and display the result."
   ]
  },
  {
   "cell_type": "code",
   "execution_count": 4,
   "metadata": {
    "scrolled": true
   },
   "outputs": [
    {
     "data": {
      "text/html": [
       "<div>\n",
       "<style scoped>\n",
       "    .dataframe tbody tr th:only-of-type {\n",
       "        vertical-align: middle;\n",
       "    }\n",
       "\n",
       "    .dataframe tbody tr th {\n",
       "        vertical-align: top;\n",
       "    }\n",
       "\n",
       "    .dataframe thead th {\n",
       "        text-align: right;\n",
       "    }\n",
       "</style>\n",
       "<table border=\"1\" class=\"dataframe\">\n",
       "  <thead>\n",
       "    <tr style=\"text-align: right;\">\n",
       "      <th></th>\n",
       "      <th></th>\n",
       "      <th>10_day_mean_close</th>\n",
       "    </tr>\n",
       "    <tr>\n",
       "      <th>date</th>\n",
       "      <th>asset</th>\n",
       "      <th></th>\n",
       "    </tr>\n",
       "  </thead>\n",
       "  <tbody>\n",
       "    <tr>\n",
       "      <th rowspan=\"11\" valign=\"top\">2015-05-05 00:00:00+00:00</th>\n",
       "      <th>Equity(FIBBG000C2V3D6 [A])</th>\n",
       "      <td>42.197000</td>\n",
       "    </tr>\n",
       "    <tr>\n",
       "      <th>Equity(QI000000004076 [AABA])</th>\n",
       "      <td>43.577500</td>\n",
       "    </tr>\n",
       "    <tr>\n",
       "      <th>Equity(FIBBG006T1NZ18 [AAC])</th>\n",
       "      <td>32.953000</td>\n",
       "    </tr>\n",
       "    <tr>\n",
       "      <th>Equity(FIBBG000V2S3P6 [AACG])</th>\n",
       "      <td>4.548800</td>\n",
       "    </tr>\n",
       "    <tr>\n",
       "      <th>Equity(FIBBG000BDYRW6 [AADR])</th>\n",
       "      <td>40.508750</td>\n",
       "    </tr>\n",
       "    <tr>\n",
       "      <th>...</th>\n",
       "      <td>...</td>\n",
       "    </tr>\n",
       "    <tr>\n",
       "      <th>Equity(FIBBG0001JCK35 [RBSPE])</th>\n",
       "      <td>NaN</td>\n",
       "    </tr>\n",
       "    <tr>\n",
       "      <th>Equity(FIBBG0001JCK44 [RBSPG])</th>\n",
       "      <td>NaN</td>\n",
       "    </tr>\n",
       "    <tr>\n",
       "      <th>Equity(FIBBG0001JCQT4 [RBSPI])</th>\n",
       "      <td>NaN</td>\n",
       "    </tr>\n",
       "    <tr>\n",
       "      <th>Equity(FIBBG007NFXFG8 [UZB])</th>\n",
       "      <td>25.517778</td>\n",
       "    </tr>\n",
       "    <tr>\n",
       "      <th>Equity(FIBBG0046M31Y3 [WMGIZ])</th>\n",
       "      <td>4.123750</td>\n",
       "    </tr>\n",
       "  </tbody>\n",
       "</table>\n",
       "<p>8292 rows × 1 columns</p>\n",
       "</div>"
      ],
      "text/plain": [
       "                                                          10_day_mean_close\n",
       "date                      asset                                            \n",
       "2015-05-05 00:00:00+00:00 Equity(FIBBG000C2V3D6 [A])              42.197000\n",
       "                          Equity(QI000000004076 [AABA])           43.577500\n",
       "                          Equity(FIBBG006T1NZ18 [AAC])            32.953000\n",
       "                          Equity(FIBBG000V2S3P6 [AACG])            4.548800\n",
       "                          Equity(FIBBG000BDYRW6 [AADR])           40.508750\n",
       "...                                                                     ...\n",
       "                          Equity(FIBBG0001JCK35 [RBSPE])                NaN\n",
       "                          Equity(FIBBG0001JCK44 [RBSPG])                NaN\n",
       "                          Equity(FIBBG0001JCQT4 [RBSPI])                NaN\n",
       "                          Equity(FIBBG007NFXFG8 [UZB])            25.517778\n",
       "                          Equity(FIBBG0046M31Y3 [WMGIZ])           4.123750\n",
       "\n",
       "[8292 rows x 1 columns]"
      ]
     },
     "execution_count": 4,
     "metadata": {},
     "output_type": "execute_result"
    }
   ],
   "source": [
    "result = run_pipeline(make_pipeline(), start_date='2015-05-05', end_date='2015-05-05')\n",
    "result"
   ]
  },
  {
   "cell_type": "markdown",
   "metadata": {},
   "source": [
    "Now we have a column in our pipeline output with the 10-day average close price for all 8000+ securities (display truncated). Note that each row corresponds to the result of our computation for a given security on a given date stored. The `DataFrame` has a MultiIndex where the first level is a datetime representing the date of the computation and the second level is an `Equity` object corresponding to the security.\n",
    "\n",
    "If we run our pipeline over more than one day, the output looks like this."
   ]
  },
  {
   "cell_type": "code",
   "execution_count": 5,
   "metadata": {
    "scrolled": true
   },
   "outputs": [
    {
     "data": {
      "text/html": [
       "<div>\n",
       "<style scoped>\n",
       "    .dataframe tbody tr th:only-of-type {\n",
       "        vertical-align: middle;\n",
       "    }\n",
       "\n",
       "    .dataframe tbody tr th {\n",
       "        vertical-align: top;\n",
       "    }\n",
       "\n",
       "    .dataframe thead th {\n",
       "        text-align: right;\n",
       "    }\n",
       "</style>\n",
       "<table border=\"1\" class=\"dataframe\">\n",
       "  <thead>\n",
       "    <tr style=\"text-align: right;\">\n",
       "      <th></th>\n",
       "      <th></th>\n",
       "      <th>10_day_mean_close</th>\n",
       "    </tr>\n",
       "    <tr>\n",
       "      <th>date</th>\n",
       "      <th>asset</th>\n",
       "      <th></th>\n",
       "    </tr>\n",
       "  </thead>\n",
       "  <tbody>\n",
       "    <tr>\n",
       "      <th rowspan=\"5\" valign=\"top\">2015-05-05 00:00:00+00:00</th>\n",
       "      <th>Equity(FIBBG000C2V3D6 [A])</th>\n",
       "      <td>42.197000</td>\n",
       "    </tr>\n",
       "    <tr>\n",
       "      <th>Equity(QI000000004076 [AABA])</th>\n",
       "      <td>43.577500</td>\n",
       "    </tr>\n",
       "    <tr>\n",
       "      <th>Equity(FIBBG006T1NZ18 [AAC])</th>\n",
       "      <td>32.953000</td>\n",
       "    </tr>\n",
       "    <tr>\n",
       "      <th>Equity(FIBBG000V2S3P6 [AACG])</th>\n",
       "      <td>4.548800</td>\n",
       "    </tr>\n",
       "    <tr>\n",
       "      <th>Equity(FIBBG000BDYRW6 [AADR])</th>\n",
       "      <td>40.508750</td>\n",
       "    </tr>\n",
       "    <tr>\n",
       "      <th>...</th>\n",
       "      <th>...</th>\n",
       "      <td>...</td>\n",
       "    </tr>\n",
       "    <tr>\n",
       "      <th rowspan=\"5\" valign=\"top\">2015-05-07 00:00:00+00:00</th>\n",
       "      <th>Equity(FIBBG0001JCK35 [RBSPE])</th>\n",
       "      <td>NaN</td>\n",
       "    </tr>\n",
       "    <tr>\n",
       "      <th>Equity(FIBBG0001JCK44 [RBSPG])</th>\n",
       "      <td>NaN</td>\n",
       "    </tr>\n",
       "    <tr>\n",
       "      <th>Equity(FIBBG0001JCQT4 [RBSPI])</th>\n",
       "      <td>NaN</td>\n",
       "    </tr>\n",
       "    <tr>\n",
       "      <th>Equity(FIBBG007NFXFG8 [UZB])</th>\n",
       "      <td>25.424444</td>\n",
       "    </tr>\n",
       "    <tr>\n",
       "      <th>Equity(FIBBG0046M31Y3 [WMGIZ])</th>\n",
       "      <td>4.132500</td>\n",
       "    </tr>\n",
       "  </tbody>\n",
       "</table>\n",
       "<p>24884 rows × 1 columns</p>\n",
       "</div>"
      ],
      "text/plain": [
       "                                                          10_day_mean_close\n",
       "date                      asset                                            \n",
       "2015-05-05 00:00:00+00:00 Equity(FIBBG000C2V3D6 [A])              42.197000\n",
       "                          Equity(QI000000004076 [AABA])           43.577500\n",
       "                          Equity(FIBBG006T1NZ18 [AAC])            32.953000\n",
       "                          Equity(FIBBG000V2S3P6 [AACG])            4.548800\n",
       "                          Equity(FIBBG000BDYRW6 [AADR])           40.508750\n",
       "...                                                                     ...\n",
       "2015-05-07 00:00:00+00:00 Equity(FIBBG0001JCK35 [RBSPE])                NaN\n",
       "                          Equity(FIBBG0001JCK44 [RBSPG])                NaN\n",
       "                          Equity(FIBBG0001JCQT4 [RBSPI])                NaN\n",
       "                          Equity(FIBBG007NFXFG8 [UZB])            25.424444\n",
       "                          Equity(FIBBG0046M31Y3 [WMGIZ])           4.132500\n",
       "\n",
       "[24884 rows x 1 columns]"
      ]
     },
     "execution_count": 5,
     "metadata": {},
     "output_type": "execute_result"
    }
   ],
   "source": [
    "result = run_pipeline(make_pipeline(), start_date='2015-05-05', end_date='2015-05-07')\n",
    "result"
   ]
  },
  {
   "cell_type": "markdown",
   "metadata": {},
   "source": [
    "Note: factors can also be added to an existing `Pipeline` instance using the `Pipeline.add` method. Using `add` looks something like this:\n",
    "\n",
    "```python\n",
    "my_pipe = Pipeline()\n",
    "f1 = SomeFactor(...)\n",
    "my_pipe.add(f1, 'f1')\n",
    "```"
   ]
  },
  {
   "cell_type": "markdown",
   "metadata": {},
   "source": [
    "## Latest\n",
    "The most commonly used built-in `Factor` is `Latest`. The `Latest` factor gets the most recent value of a given data column. This factor is common enough that it is instantiated differently from other factors. The best way to get the latest value of a data column is by getting its `.latest` attribute. As an example, let's update `make_pipeline` to create a latest close price factor and add it to our pipeline:"
   ]
  },
  {
   "cell_type": "code",
   "execution_count": 6,
   "metadata": {},
   "outputs": [],
   "source": [
    "def make_pipeline():\n",
    "\n",
    "    mean_close_10 = SimpleMovingAverage(inputs=EquityPricing.close, window_length=10)\n",
    "    latest_close = EquityPricing.close.latest\n",
    "\n",
    "    return Pipeline(\n",
    "        columns={\n",
    "            '10_day_mean_close': mean_close_10,\n",
    "            'latest_close_price': latest_close\n",
    "        }\n",
    "    )"
   ]
  },
  {
   "cell_type": "markdown",
   "metadata": {},
   "source": [
    "And now, when we make and run our pipeline again, there are two columns in our output dataframe. One column has the 10-day mean close price of each security, and the other has the latest close price."
   ]
  },
  {
   "cell_type": "code",
   "execution_count": 7,
   "metadata": {},
   "outputs": [
    {
     "data": {
      "text/html": [
       "<div>\n",
       "<style scoped>\n",
       "    .dataframe tbody tr th:only-of-type {\n",
       "        vertical-align: middle;\n",
       "    }\n",
       "\n",
       "    .dataframe tbody tr th {\n",
       "        vertical-align: top;\n",
       "    }\n",
       "\n",
       "    .dataframe thead th {\n",
       "        text-align: right;\n",
       "    }\n",
       "</style>\n",
       "<table border=\"1\" class=\"dataframe\">\n",
       "  <thead>\n",
       "    <tr style=\"text-align: right;\">\n",
       "      <th></th>\n",
       "      <th></th>\n",
       "      <th>10_day_mean_close</th>\n",
       "      <th>latest_close_price</th>\n",
       "    </tr>\n",
       "    <tr>\n",
       "      <th>date</th>\n",
       "      <th>asset</th>\n",
       "      <th></th>\n",
       "      <th></th>\n",
       "    </tr>\n",
       "  </thead>\n",
       "  <tbody>\n",
       "    <tr>\n",
       "      <th rowspan=\"5\" valign=\"top\">2015-05-05 00:00:00+00:00</th>\n",
       "      <th>Equity(FIBBG000C2V3D6 [A])</th>\n",
       "      <td>42.19700</td>\n",
       "      <td>41.940</td>\n",
       "    </tr>\n",
       "    <tr>\n",
       "      <th>Equity(QI000000004076 [AABA])</th>\n",
       "      <td>43.57750</td>\n",
       "      <td>42.040</td>\n",
       "    </tr>\n",
       "    <tr>\n",
       "      <th>Equity(FIBBG006T1NZ18 [AAC])</th>\n",
       "      <td>32.95300</td>\n",
       "      <td>34.210</td>\n",
       "    </tr>\n",
       "    <tr>\n",
       "      <th>Equity(FIBBG000V2S3P6 [AACG])</th>\n",
       "      <td>4.54880</td>\n",
       "      <td>4.420</td>\n",
       "    </tr>\n",
       "    <tr>\n",
       "      <th>Equity(FIBBG000BDYRW6 [AADR])</th>\n",
       "      <td>40.50875</td>\n",
       "      <td>40.415</td>\n",
       "    </tr>\n",
       "  </tbody>\n",
       "</table>\n",
       "</div>"
      ],
      "text/plain": [
       "                                                         10_day_mean_close  \\\n",
       "date                      asset                                              \n",
       "2015-05-05 00:00:00+00:00 Equity(FIBBG000C2V3D6 [A])              42.19700   \n",
       "                          Equity(QI000000004076 [AABA])           43.57750   \n",
       "                          Equity(FIBBG006T1NZ18 [AAC])            32.95300   \n",
       "                          Equity(FIBBG000V2S3P6 [AACG])            4.54880   \n",
       "                          Equity(FIBBG000BDYRW6 [AADR])           40.50875   \n",
       "\n",
       "                                                         latest_close_price  \n",
       "date                      asset                                              \n",
       "2015-05-05 00:00:00+00:00 Equity(FIBBG000C2V3D6 [A])                 41.940  \n",
       "                          Equity(QI000000004076 [AABA])              42.040  \n",
       "                          Equity(FIBBG006T1NZ18 [AAC])               34.210  \n",
       "                          Equity(FIBBG000V2S3P6 [AACG])               4.420  \n",
       "                          Equity(FIBBG000BDYRW6 [AADR])              40.415  "
      ]
     },
     "execution_count": 7,
     "metadata": {},
     "output_type": "execute_result"
    }
   ],
   "source": [
    "result = run_pipeline(make_pipeline(), start_date='2015-05-05', end_date='2015-05-05')\n",
    "result.head(5)"
   ]
  },
  {
   "cell_type": "markdown",
   "metadata": {},
   "source": [
    "`.latest` can sometimes return things other than `Factors`. We'll see examples of other possible return types in later lessons."
   ]
  },
  {
   "cell_type": "markdown",
   "metadata": {},
   "source": [
    "## Default Inputs\n",
    "Some factors have default inputs that should never be changed. For example the VWAP built-in factor is always calculated from `EquityPricing.close` and `EquityPricing.volume`. When a factor is always calculated from the same `BoundColumn`, we can call the constructor without specifying `inputs`."
   ]
  },
  {
   "cell_type": "code",
   "execution_count": 8,
   "metadata": {},
   "outputs": [],
   "source": [
    "from zipline.pipeline.factors import VWAP\n",
    "vwap = VWAP(window_length=10)"
   ]
  },
  {
   "cell_type": "markdown",
   "metadata": {},
   "source": [
    "---\n",
    "\n",
    "**Next Lesson:** [Combining Factors](Lesson05-Combining-Factors.ipynb) "
   ]
  }
 ],
 "metadata": {
  "kernelspec": {
   "display_name": "Python 3.9",
   "language": "python",
   "name": "python3"
  },
  "language_info": {
   "codemirror_mode": {
    "name": "ipython",
    "version": 3
   },
   "file_extension": ".py",
   "mimetype": "text/x-python",
   "name": "python",
   "nbconvert_exporter": "python",
   "pygments_lexer": "ipython3",
   "version": "3.9.12"
  }
 },
 "nbformat": 4,
 "nbformat_minor": 4
}
