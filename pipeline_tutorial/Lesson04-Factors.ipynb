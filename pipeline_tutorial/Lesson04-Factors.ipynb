{
 "cells": [
  {
   "cell_type": "markdown",
   "metadata": {},
   "source": [
    "<a href=\"https://www.quantrocket.com\"><img alt=\"QuantRocket logo\" src=\"https://www.quantrocket.com/assets/img/notebook-header-logo.png\"></a>\n",
    "\n",
    "<a href=\"https://www.quantrocket.com/disclaimer/\">Disclaimer</a>"
   ]
  },
  {
   "cell_type": "markdown",
   "metadata": {},
   "source": [
    "# Factors\n",
    "A factor is a function from an asset and a moment in time to a number.\n",
    "```\n",
    "F(asset, timestamp) -> float\n",
    "```\n",
    "In Pipeline, Factors are the most commonly-used term, representing the result of any computation producing a numerical result. Factors require a column of data and a window length as input.\n",
    "\n",
    "The simplest factors in Pipeline are [built-in Factors](https://www.quantrocket.com/docs/api/#built-in-factors). Built-in Factors are pre-built to perform common computations. As a first example, let's make a factor to compute the average close price over the last 10 days. We can use the `SimpleMovingAverage` built-in factor which computes the average value of the input data (close price) over the specified window length (10 days). To do this, we need to import our built-in `SimpleMovingAverage` factor and the `EquityPricing` dataset."
   ]
  },
  {
   "cell_type": "code",
   "execution_count": 1,
   "metadata": {},
   "outputs": [],
   "source": [
    "from zipline.pipeline import Pipeline\n",
    "from zipline.research import run_pipeline\n",
    "\n",
    "# New from the last lesson, import the EquityPricing dataset.\n",
    "from zipline.pipeline.data import EquityPricing\n",
    "\n",
    "# New from the last lesson, import the built-in SimpleMovingAverage factor.\n",
    "from zipline.pipeline.factors import SimpleMovingAverage"
   ]
  },
  {
   "cell_type": "markdown",
   "metadata": {},
   "source": [
    "## Creating a Factor\n",
    "Let's go back to our `make_pipeline` function from the previous lesson and instantiate a `SimpleMovingAverage` factor. To create a `SimpleMovingAverage` factor, we can call the `SimpleMovingAverage` constructor with two arguments: inputs, which must be a list of `BoundColumn` objects, and window_length, which must be an integer indicating how many days worth of data our moving average calculation should receive. (We'll discuss `BoundColumn` in more depth later; for now we just need to know that a `BoundColumn` is an object indicating what kind of data should be passed to our Factor.).\n",
    "\n",
    "The following line creates a `Factor` for computing the 10-day mean close price of securities."
   ]
  },
  {
   "cell_type": "code",
   "execution_count": 2,
   "metadata": {},
   "outputs": [],
   "source": [
    "mean_close_10 = SimpleMovingAverage(inputs=[EquityPricing.close], window_length=10)"
   ]
  },
  {
   "cell_type": "markdown",
   "metadata": {},
   "source": [
    "It's important to note that creating the factor does not actually perform a computation. Creating a factor is like defining the function. To perform a computation, we need to add the factor to our pipeline and run it."
   ]
  },
  {
   "cell_type": "markdown",
   "metadata": {},
   "source": [
    "## Adding a Factor to a Pipeline\n",
    "\n",
    "Let's update our original empty pipeline to make it compute our new moving average factor. To start, let's move our factor instantiation into `make_pipeline`. Next, we can tell our pipeline to compute our factor by passing it a `columns` argument, which should be a dictionary mapping column names to factors, filters, or classifiers. Our updated `make_pipeline` function should look something like this:"
   ]
  },
  {
   "cell_type": "code",
   "execution_count": 3,
   "metadata": {},
   "outputs": [],
   "source": [
    "def make_pipeline():\n",
    "    \n",
    "    mean_close_10 = SimpleMovingAverage(inputs=[EquityPricing.close], window_length=10)\n",
    "    \n",
    "    return Pipeline(\n",
    "        columns={\n",
    "            '10_day_mean_close': mean_close_10\n",
    "        }\n",
    "    )"
   ]
  },
  {
   "cell_type": "markdown",
   "metadata": {},
   "source": [
    "To see what this looks like, let's make our pipeline, run it, and display the result."
   ]
  },
  {
   "cell_type": "code",
   "execution_count": 4,
   "metadata": {
    "scrolled": true
   },
   "outputs": [
    {
     "data": {
      "text/html": [
       "<div>\n",
       "<style scoped>\n",
       "    .dataframe tbody tr th:only-of-type {\n",
       "        vertical-align: middle;\n",
       "    }\n",
       "\n",
       "    .dataframe tbody tr th {\n",
       "        vertical-align: top;\n",
       "    }\n",
       "\n",
       "    .dataframe thead th {\n",
       "        text-align: right;\n",
       "    }\n",
       "</style>\n",
       "<table border=\"1\" class=\"dataframe\">\n",
       "  <thead>\n",
       "    <tr style=\"text-align: right;\">\n",
       "      <th></th>\n",
       "      <th></th>\n",
       "      <th>10_day_mean_close</th>\n",
       "    </tr>\n",
       "  </thead>\n",
       "  <tbody>\n",
       "    <tr>\n",
       "      <th rowspan=\"11\" valign=\"top\">2015-05-05 00:00:00+00:00</th>\n",
       "      <th>Equity(FIBBG000C2V3D6 [A])</th>\n",
       "      <td>42.1970</td>\n",
       "    </tr>\n",
       "    <tr>\n",
       "      <th>Equity(FIBBG00B3T3HD3 [AA])</th>\n",
       "      <td>NaN</td>\n",
       "    </tr>\n",
       "    <tr>\n",
       "      <th>Equity(QI000000004076 [AABA])</th>\n",
       "      <td>43.5775</td>\n",
       "    </tr>\n",
       "    <tr>\n",
       "      <th>Equity(FIBBG001B9VR83 [AAC])</th>\n",
       "      <td>NaN</td>\n",
       "    </tr>\n",
       "    <tr>\n",
       "      <th>Equity(FIBBG006T1NZ18 [AAC])</th>\n",
       "      <td>32.9530</td>\n",
       "    </tr>\n",
       "    <tr>\n",
       "      <th>...</th>\n",
       "      <td>...</td>\n",
       "    </tr>\n",
       "    <tr>\n",
       "      <th>Equity(FIBBG0039320N9 [ZTS])</th>\n",
       "      <td>46.1740</td>\n",
       "    </tr>\n",
       "    <tr>\n",
       "      <th>Equity(FIBBG001Z7M393 [ZU])</th>\n",
       "      <td>12.9825</td>\n",
       "    </tr>\n",
       "    <tr>\n",
       "      <th>Equity(FIBBG000PYX812 [ZUMZ])</th>\n",
       "      <td>32.9710</td>\n",
       "    </tr>\n",
       "    <tr>\n",
       "      <th>Equity(FIBBG000C3CQP1 [ZVO])</th>\n",
       "      <td>9.0880</td>\n",
       "    </tr>\n",
       "    <tr>\n",
       "      <th>Equity(FIBBG001NFC923 [ZX])</th>\n",
       "      <td>1.3430</td>\n",
       "    </tr>\n",
       "  </tbody>\n",
       "</table>\n",
       "<p>8282 rows × 1 columns</p>\n",
       "</div>"
      ],
      "text/plain": [
       "                                                         10_day_mean_close\n",
       "2015-05-05 00:00:00+00:00 Equity(FIBBG000C2V3D6 [A])               42.1970\n",
       "                          Equity(FIBBG00B3T3HD3 [AA])                  NaN\n",
       "                          Equity(QI000000004076 [AABA])            43.5775\n",
       "                          Equity(FIBBG001B9VR83 [AAC])                 NaN\n",
       "                          Equity(FIBBG006T1NZ18 [AAC])             32.9530\n",
       "...                                                                    ...\n",
       "                          Equity(FIBBG0039320N9 [ZTS])             46.1740\n",
       "                          Equity(FIBBG001Z7M393 [ZU])              12.9825\n",
       "                          Equity(FIBBG000PYX812 [ZUMZ])            32.9710\n",
       "                          Equity(FIBBG000C3CQP1 [ZVO])              9.0880\n",
       "                          Equity(FIBBG001NFC923 [ZX])               1.3430\n",
       "\n",
       "[8282 rows x 1 columns]"
      ]
     },
     "execution_count": 4,
     "metadata": {},
     "output_type": "execute_result"
    }
   ],
   "source": [
    "result = run_pipeline(make_pipeline(), start_date='2015-05-05', end_date='2015-05-05')\n",
    "result"
   ]
  },
  {
   "cell_type": "markdown",
   "metadata": {},
   "source": [
    "Now we have a column in our pipeline output with the 10-day average close price for all 8000+ securities (display truncated). Note that each row corresponds to the result of our computation for a given security on a given date stored. The `DataFrame` has a MultiIndex where the first level is a datetime representing the date of the computation and the second level is an `Equity` object corresponding to the security.\n",
    "\n",
    "If we run our pipeline over more than one day, the output looks like this."
   ]
  },
  {
   "cell_type": "code",
   "execution_count": 5,
   "metadata": {
    "scrolled": true
   },
   "outputs": [
    {
     "data": {
      "text/html": [
       "<div>\n",
       "<style scoped>\n",
       "    .dataframe tbody tr th:only-of-type {\n",
       "        vertical-align: middle;\n",
       "    }\n",
       "\n",
       "    .dataframe tbody tr th {\n",
       "        vertical-align: top;\n",
       "    }\n",
       "\n",
       "    .dataframe thead th {\n",
       "        text-align: right;\n",
       "    }\n",
       "</style>\n",
       "<table border=\"1\" class=\"dataframe\">\n",
       "  <thead>\n",
       "    <tr style=\"text-align: right;\">\n",
       "      <th></th>\n",
       "      <th></th>\n",
       "      <th>10_day_mean_close</th>\n",
       "    </tr>\n",
       "  </thead>\n",
       "  <tbody>\n",
       "    <tr>\n",
       "      <th rowspan=\"5\" valign=\"top\">2015-05-05 00:00:00+00:00</th>\n",
       "      <th>Equity(FIBBG000C2V3D6 [A])</th>\n",
       "      <td>42.1970</td>\n",
       "    </tr>\n",
       "    <tr>\n",
       "      <th>Equity(FIBBG00B3T3HD3 [AA])</th>\n",
       "      <td>NaN</td>\n",
       "    </tr>\n",
       "    <tr>\n",
       "      <th>Equity(QI000000004076 [AABA])</th>\n",
       "      <td>43.5775</td>\n",
       "    </tr>\n",
       "    <tr>\n",
       "      <th>Equity(FIBBG001B9VR83 [AAC])</th>\n",
       "      <td>NaN</td>\n",
       "    </tr>\n",
       "    <tr>\n",
       "      <th>Equity(FIBBG006T1NZ18 [AAC])</th>\n",
       "      <td>32.9530</td>\n",
       "    </tr>\n",
       "    <tr>\n",
       "      <th>...</th>\n",
       "      <th>...</th>\n",
       "      <td>...</td>\n",
       "    </tr>\n",
       "    <tr>\n",
       "      <th rowspan=\"5\" valign=\"top\">2015-05-07 00:00:00+00:00</th>\n",
       "      <th>Equity(FIBBG0039320N9 [ZTS])</th>\n",
       "      <td>45.8140</td>\n",
       "    </tr>\n",
       "    <tr>\n",
       "      <th>Equity(FIBBG001Z7M393 [ZU])</th>\n",
       "      <td>12.5460</td>\n",
       "    </tr>\n",
       "    <tr>\n",
       "      <th>Equity(FIBBG000PYX812 [ZUMZ])</th>\n",
       "      <td>32.4390</td>\n",
       "    </tr>\n",
       "    <tr>\n",
       "      <th>Equity(FIBBG000C3CQP1 [ZVO])</th>\n",
       "      <td>9.0640</td>\n",
       "    </tr>\n",
       "    <tr>\n",
       "      <th>Equity(FIBBG001NFC923 [ZX])</th>\n",
       "      <td>1.3431</td>\n",
       "    </tr>\n",
       "  </tbody>\n",
       "</table>\n",
       "<p>24854 rows × 1 columns</p>\n",
       "</div>"
      ],
      "text/plain": [
       "                                                         10_day_mean_close\n",
       "2015-05-05 00:00:00+00:00 Equity(FIBBG000C2V3D6 [A])               42.1970\n",
       "                          Equity(FIBBG00B3T3HD3 [AA])                  NaN\n",
       "                          Equity(QI000000004076 [AABA])            43.5775\n",
       "                          Equity(FIBBG001B9VR83 [AAC])                 NaN\n",
       "                          Equity(FIBBG006T1NZ18 [AAC])             32.9530\n",
       "...                                                                    ...\n",
       "2015-05-07 00:00:00+00:00 Equity(FIBBG0039320N9 [ZTS])             45.8140\n",
       "                          Equity(FIBBG001Z7M393 [ZU])              12.5460\n",
       "                          Equity(FIBBG000PYX812 [ZUMZ])            32.4390\n",
       "                          Equity(FIBBG000C3CQP1 [ZVO])              9.0640\n",
       "                          Equity(FIBBG001NFC923 [ZX])               1.3431\n",
       "\n",
       "[24854 rows x 1 columns]"
      ]
     },
     "execution_count": 5,
     "metadata": {},
     "output_type": "execute_result"
    }
   ],
   "source": [
    "result = run_pipeline(make_pipeline(), start_date='2015-05-05', end_date='2015-05-07')\n",
    "result"
   ]
  },
  {
   "cell_type": "markdown",
   "metadata": {},
   "source": [
    "Note: factors can also be added to an existing `Pipeline` instance using the `Pipeline.add` method. Using `add` looks something like this:\n",
    "\n",
    "```python\n",
    "my_pipe = Pipeline()\n",
    "f1 = SomeFactor(...)\n",
    "my_pipe.add(f1, 'f1')\n",
    "```"
   ]
  },
  {
   "cell_type": "markdown",
   "metadata": {},
   "source": [
    "## Latest\n",
    "The most commonly used built-in `Factor` is `Latest`. The `Latest` factor gets the most recent value of a given data column. This factor is common enough that it is instantiated differently from other factors. The best way to get the latest value of a data column is by getting its `.latest` attribute. As an example, let's update `make_pipeline` to create a latest close price factor and add it to our pipeline:"
   ]
  },
  {
   "cell_type": "code",
   "execution_count": 6,
   "metadata": {},
   "outputs": [],
   "source": [
    "def make_pipeline():\n",
    "\n",
    "    mean_close_10 = SimpleMovingAverage(inputs=[EquityPricing.close], window_length=10)\n",
    "    latest_close = EquityPricing.close.latest\n",
    "\n",
    "    return Pipeline(\n",
    "        columns={\n",
    "            '10_day_mean_close': mean_close_10,\n",
    "            'latest_close_price': latest_close\n",
    "        }\n",
    "    )"
   ]
  },
  {
   "cell_type": "markdown",
   "metadata": {},
   "source": [
    "And now, when we make and run our pipeline again, there are two columns in our output dataframe. One column has the 10-day mean close price of each security, and the other has the latest close price."
   ]
  },
  {
   "cell_type": "code",
   "execution_count": 7,
   "metadata": {},
   "outputs": [
    {
     "data": {
      "text/html": [
       "<div>\n",
       "<style scoped>\n",
       "    .dataframe tbody tr th:only-of-type {\n",
       "        vertical-align: middle;\n",
       "    }\n",
       "\n",
       "    .dataframe tbody tr th {\n",
       "        vertical-align: top;\n",
       "    }\n",
       "\n",
       "    .dataframe thead th {\n",
       "        text-align: right;\n",
       "    }\n",
       "</style>\n",
       "<table border=\"1\" class=\"dataframe\">\n",
       "  <thead>\n",
       "    <tr style=\"text-align: right;\">\n",
       "      <th></th>\n",
       "      <th></th>\n",
       "      <th>10_day_mean_close</th>\n",
       "      <th>latest_close_price</th>\n",
       "    </tr>\n",
       "  </thead>\n",
       "  <tbody>\n",
       "    <tr>\n",
       "      <th rowspan=\"5\" valign=\"top\">2015-05-05 00:00:00+00:00</th>\n",
       "      <th>Equity(FIBBG000C2V3D6 [A])</th>\n",
       "      <td>42.1970</td>\n",
       "      <td>41.94</td>\n",
       "    </tr>\n",
       "    <tr>\n",
       "      <th>Equity(FIBBG00B3T3HD3 [AA])</th>\n",
       "      <td>NaN</td>\n",
       "      <td>NaN</td>\n",
       "    </tr>\n",
       "    <tr>\n",
       "      <th>Equity(QI000000004076 [AABA])</th>\n",
       "      <td>43.5775</td>\n",
       "      <td>42.04</td>\n",
       "    </tr>\n",
       "    <tr>\n",
       "      <th>Equity(FIBBG001B9VR83 [AAC])</th>\n",
       "      <td>NaN</td>\n",
       "      <td>NaN</td>\n",
       "    </tr>\n",
       "    <tr>\n",
       "      <th>Equity(FIBBG006T1NZ18 [AAC])</th>\n",
       "      <td>32.9530</td>\n",
       "      <td>34.21</td>\n",
       "    </tr>\n",
       "  </tbody>\n",
       "</table>\n",
       "</div>"
      ],
      "text/plain": [
       "                                                         10_day_mean_close  \\\n",
       "2015-05-05 00:00:00+00:00 Equity(FIBBG000C2V3D6 [A])               42.1970   \n",
       "                          Equity(FIBBG00B3T3HD3 [AA])                  NaN   \n",
       "                          Equity(QI000000004076 [AABA])            43.5775   \n",
       "                          Equity(FIBBG001B9VR83 [AAC])                 NaN   \n",
       "                          Equity(FIBBG006T1NZ18 [AAC])             32.9530   \n",
       "\n",
       "                                                         latest_close_price  \n",
       "2015-05-05 00:00:00+00:00 Equity(FIBBG000C2V3D6 [A])                  41.94  \n",
       "                          Equity(FIBBG00B3T3HD3 [AA])                   NaN  \n",
       "                          Equity(QI000000004076 [AABA])               42.04  \n",
       "                          Equity(FIBBG001B9VR83 [AAC])                  NaN  \n",
       "                          Equity(FIBBG006T1NZ18 [AAC])                34.21  "
      ]
     },
     "execution_count": 7,
     "metadata": {},
     "output_type": "execute_result"
    }
   ],
   "source": [
    "result = run_pipeline(make_pipeline(), start_date='2015-05-05', end_date='2015-05-05')\n",
    "result.head(5)"
   ]
  },
  {
   "cell_type": "markdown",
   "metadata": {},
   "source": [
    "`.latest` can sometimes return things other than `Factors`. We'll see examples of other possible return types in later lessons."
   ]
  },
  {
   "cell_type": "markdown",
   "metadata": {},
   "source": [
    "## Default Inputs\n",
    "Some factors have default inputs that should never be changed. For example the [VWAP built-in factor](https://www.quantrocket.com/docs/api/#zipline.pipeline.factors.VWAP) is always calculated from `EquityPricing.close` and `EquityPricing.volume`. When a factor is always calculated from the same `BoundColumn`, we can call the constructor without specifying `inputs`."
   ]
  },
  {
   "cell_type": "code",
   "execution_count": 8,
   "metadata": {},
   "outputs": [],
   "source": [
    "from zipline.pipeline.factors import VWAP\n",
    "vwap = VWAP(window_length=10)"
   ]
  },
  {
   "cell_type": "markdown",
   "metadata": {},
   "source": [
    "---\n",
    "\n",
    "**Next Lesson:** [Combining Factors](Lesson05-Combining-Factors.ipynb) "
   ]
  }
 ],
 "metadata": {
  "kernelspec": {
   "display_name": "Python 3",
   "language": "python",
   "name": "python3"
  },
  "language_info": {
   "codemirror_mode": {
    "name": "ipython",
    "version": 3
   },
   "file_extension": ".py",
   "mimetype": "text/x-python",
   "name": "python",
   "nbconvert_exporter": "python",
   "pygments_lexer": "ipython3",
   "version": "3.8.3"
  }
 },
 "nbformat": 4,
 "nbformat_minor": 4
}
