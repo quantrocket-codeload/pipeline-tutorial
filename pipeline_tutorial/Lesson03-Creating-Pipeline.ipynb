{
 "cells": [
  {
   "cell_type": "markdown",
   "metadata": {},
   "source": [
    "<a href=\"https://www.quantrocket.com\"><img alt=\"QuantRocket logo\" src=\"https://www.quantrocket.com/assets/img/notebook-header-logo.png\"></a><br>\n",
    "<a href=\"https://www.quantrocket.com/disclaimer/\">Disclaimer</a>"
   ]
  },
  {
   "cell_type": "markdown",
   "metadata": {},
   "source": [
    "***\n",
    "[Pipeline Tutorial](Introduction.ipynb) › Lesson 3: Creating a Pipeline\n",
    "***"
   ]
  },
  {
   "cell_type": "markdown",
   "metadata": {},
   "source": [
    "# Creating a Pipeline\n",
    "\n",
    "In this lesson, we will take a look at creating an empty pipeline. First, let's import the Pipeline class:"
   ]
  },
  {
   "cell_type": "code",
   "execution_count": 1,
   "metadata": {},
   "outputs": [],
   "source": [
    "from zipline.pipeline import Pipeline"
   ]
  },
  {
   "cell_type": "markdown",
   "metadata": {},
   "source": [
    "In a new cell, let's define a function to create our pipeline. Wrapping our pipeline creation in a function sets up a structure for more complex pipelines that we will see later on. For now, this function simply returns an empty pipeline:"
   ]
  },
  {
   "cell_type": "code",
   "execution_count": 2,
   "metadata": {},
   "outputs": [],
   "source": [
    "def make_pipeline():\n",
    "    return Pipeline()"
   ]
  },
  {
   "cell_type": "markdown",
   "metadata": {},
   "source": [
    "In a new cell, let's instantiate our pipeline by running `make_pipeline()`:"
   ]
  },
  {
   "cell_type": "code",
   "execution_count": 3,
   "metadata": {
    "collapsed": false,
    "jupyter": {
     "outputs_hidden": false
    }
   },
   "outputs": [],
   "source": [
    "my_pipe = make_pipeline()"
   ]
  },
  {
   "cell_type": "markdown",
   "metadata": {},
   "source": [
    "## Running a Pipeline\n",
    "\n",
    "Now that we have a reference to an empty Pipeline, `my_pipe`, let's run it to see what it looks like. Before running our pipeline, we first need to import `run_pipeline`, a research-only function that allows us to run a pipeline over a specified time period."
   ]
  },
  {
   "cell_type": "code",
   "execution_count": 4,
   "metadata": {},
   "outputs": [],
   "source": [
    "from zipline.research import run_pipeline"
   ]
  },
  {
   "cell_type": "markdown",
   "metadata": {},
   "source": [
    "Since we will be using the same data bundle repeatedly in this tutorial, we can set it as the default bundle to avoid always having to type the name of the bundle in each call to `run_pipeline`:"
   ]
  },
  {
   "cell_type": "code",
   "execution_count": 5,
   "metadata": {},
   "outputs": [
    {
     "data": {
      "text/plain": [
       "{'status': 'successfully set default bundle'}"
      ]
     },
     "execution_count": 5,
     "metadata": {},
     "output_type": "execute_result"
    }
   ],
   "source": [
    "from quantrocket.zipline import set_default_bundle\n",
    "set_default_bundle(\"usstock-learn-1d\")"
   ]
  },
  {
   "cell_type": "markdown",
   "metadata": {},
   "source": [
    "Let's run our pipeline for one day (2010-01-05) with `run_pipeline` and display it."
   ]
  },
  {
   "cell_type": "code",
   "execution_count": 6,
   "metadata": {
    "collapsed": false,
    "jupyter": {
     "outputs_hidden": false
    }
   },
   "outputs": [],
   "source": [
    "result = run_pipeline(my_pipe, start_date='2010-01-05', end_date='2010-01-05')"
   ]
  },
  {
   "cell_type": "markdown",
   "metadata": {},
   "source": [
    "A call to `run_pipeline` returns a pandas DataFrame indexed by date and security. Let's see what the empty pipeline looks like:"
   ]
  },
  {
   "cell_type": "code",
   "execution_count": 7,
   "metadata": {
    "collapsed": false,
    "jupyter": {
     "outputs_hidden": false
    },
    "scrolled": true
   },
   "outputs": [
    {
     "data": {
      "text/html": [
       "<div>\n",
       "<style scoped>\n",
       "    .dataframe tbody tr th:only-of-type {\n",
       "        vertical-align: middle;\n",
       "    }\n",
       "\n",
       "    .dataframe tbody tr th {\n",
       "        vertical-align: top;\n",
       "    }\n",
       "\n",
       "    .dataframe thead th {\n",
       "        text-align: right;\n",
       "    }\n",
       "</style>\n",
       "<table border=\"1\" class=\"dataframe\">\n",
       "  <thead>\n",
       "    <tr style=\"text-align: right;\">\n",
       "      <th></th>\n",
       "      <th></th>\n",
       "    </tr>\n",
       "    <tr>\n",
       "      <th>date</th>\n",
       "      <th>asset</th>\n",
       "    </tr>\n",
       "  </thead>\n",
       "  <tbody>\n",
       "    <tr>\n",
       "      <th rowspan=\"11\" valign=\"top\">2010-01-05</th>\n",
       "      <th>Equity(FIBBG000C2V3D6 [A])</th>\n",
       "    </tr>\n",
       "    <tr>\n",
       "      <th>Equity(QI000000004076 [AABA])</th>\n",
       "    </tr>\n",
       "    <tr>\n",
       "      <th>Equity(FIBBG000BZWHH8 [AACC])</th>\n",
       "    </tr>\n",
       "    <tr>\n",
       "      <th>Equity(FIBBG000V2S3P6 [AACG])</th>\n",
       "    </tr>\n",
       "    <tr>\n",
       "      <th>Equity(FIBBG000M7KQ09 [AAI])</th>\n",
       "    </tr>\n",
       "    <tr>\n",
       "      <th>...</th>\n",
       "    </tr>\n",
       "    <tr>\n",
       "      <th>Equity(FIBBG011MC2100 [AATC])</th>\n",
       "    </tr>\n",
       "    <tr>\n",
       "      <th>Equity(FIBBG000GDBDH4 [BDG])</th>\n",
       "    </tr>\n",
       "    <tr>\n",
       "      <th>Equity(FIBBG000008NR0 [ISM])</th>\n",
       "    </tr>\n",
       "    <tr>\n",
       "      <th>Equity(FIBBG000GZ24W8 [PEM])</th>\n",
       "    </tr>\n",
       "    <tr>\n",
       "      <th>Equity(FIBBG000BB5S87 [HCH])</th>\n",
       "    </tr>\n",
       "  </tbody>\n",
       "</table>\n",
       "<p>7841 rows × 0 columns</p>\n",
       "</div>"
      ],
      "text/plain": [
       "Empty DataFrameWithMetadata\n",
       "Columns: []\n",
       "Index: [(2010-01-05 00:00:00, Equity(FIBBG000C2V3D6 [A])), (2010-01-05 00:00:00, Equity(QI000000004076 [AABA])), (2010-01-05 00:00:00, Equity(FIBBG000BZWHH8 [AACC])), (2010-01-05 00:00:00, Equity(FIBBG000V2S3P6 [AACG])), (2010-01-05 00:00:00, Equity(FIBBG000M7KQ09 [AAI])), (2010-01-05 00:00:00, Equity(FIBBG000BD1373 [AAIC])), (2010-01-05 00:00:00, Equity(FIBBG000B9XB24 [AAME])), (2010-01-05 00:00:00, Equity(FIBBG000D9V7T4 [PRG])), (2010-01-05 00:00:00, Equity(QI000000053169 [AAN])), (2010-01-05 00:00:00, Equity(FIBBG000C2LZP3 [AAON])), (2010-01-05 00:00:00, Equity(FIBBG000F7RCJ1 [AAP])), (2010-01-05 00:00:00, Equity(FIBBG000B9XRY4 [AAPL])), (2010-01-05 00:00:00, Equity(FIBBG000006B98 [AAR])), (2010-01-05 00:00:00, Equity(FIBBG000F519J0 [AATI])), (2010-01-05 00:00:00, Equity(FIBBG000DGFSY4 [AAU])), (2010-01-05 00:00:00, Equity(FIBBG000C5QZ62 [AAV])), (2010-01-05 00:00:00, Equity(FIBBG000Q57YP0 [AAWW])), (2010-01-05 00:00:00, Equity(FIBBG000G6GXC5 [AAXJ])), (2010-01-05 00:00:00, Equity(FIBBG000B9WM03 [AB])), (2010-01-05 00:00:00, Equity(FIBBG000CP4WX9 [ABAX])), (2010-01-05 00:00:00, Equity(FIBBG000DK5Q25 [ABB])), (2010-01-05 00:00:00, Equity(FIBBG000PMDBR5 [ABBC])), (2010-01-05 00:00:00, Equity(FIBBG000MDCQC2 [COR])), (2010-01-05 00:00:00, Equity(FIBBG000CDY3H5 [ABCB])), (2010-01-05 00:00:00, Equity(FIBBG000Q05Q43 [ABCD])), (2010-01-05 00:00:00, Equity(FIBBG000CG1LX6 [ABCO])), (2010-01-05 00:00:00, Equity(FIBBG000C4H3C9 [ABCW])), (2010-01-05 00:00:00, Equity(FIBBG000C24FY6 [ABE])), (2010-01-05 00:00:00, Equity(FIBBG000BKDWB5 [ABG])), (2010-01-05 00:00:00, Equity(FIBBG000KPFSC0 [ABI])), (2010-01-05 00:00:00, Equity(FIBBG000BC7G61 [ABII])), (2010-01-05 00:00:00, Equity(FIBBG000BWNN28 [ABIO])), (2010-01-05 00:00:00, Equity(FIBBG000001382 [ABKPZ])), (2010-01-05 00:00:00, Equity(FIBBG000B9YFS6 [ABL])), (2010-01-05 00:00:00, Equity(FIBBG000B9YYH7 [ABM])), (2010-01-05 00:00:00, Equity(FIBBG000C101X4 [ABMD])), (2010-01-05 00:00:00, Equity(FIBBG000KMVDV1 [ABR])), (2010-01-05 00:00:00, Equity(FIBBG000B9ZXB4 [ABT])), (2010-01-05 00:00:00, Equity(QI000000052857 [ABV])), (2010-01-05 00:00:00, Equity(FIBBG000BMG4H4 [ABV.C])), (2010-01-05 00:00:00, Equity(FIBBG000CZ31L9 [ABVA])), (2010-01-05 00:00:00, Equity(FIBBG000BJ7R08 [ABVT])), (2010-01-05 00:00:00, Equity(FIBBG000006Z04 [ABWPA])), (2010-01-05 00:00:00, Equity(FIBBG000928WM2 [ABY])), (2010-01-05 00:00:00, Equity(FIBBG000BHG9K0 [ACAD])), (2010-01-05 00:00:00, Equity(FIBBG000CS36R8 [ACAP])), (2010-01-05 00:00:00, Equity(FIBBG000BYR208 [ACAS])), (2010-01-05 00:00:00, Equity(FIBBG000BS2LC3 [ACAT])), (2010-01-05 00:00:00, Equity(FIBBG000M9KP89 [ACC])), (2010-01-05 00:00:00, Equity(FIBBG000C3NNC0 [ACCL])), (2010-01-05 00:00:00, Equity(FIBBG000J06K07 [ACCO])), (2010-01-05 00:00:00, Equity(FIBBG000BG5S59 [ACER])), (2010-01-05 00:00:00, Equity(FIBBG000BB0S19 [ACET])), (2010-01-05 00:00:00, Equity(FIBBG000CXLZ20 [ACF])), (2010-01-05 00:00:00, Equity(QI000000140206 [ACFC])), (2010-01-05 00:00:00, Equity(FIBBG000BP23H4 [ACFC])), (2010-01-05 00:00:00, Equity(FIBBG000CMY866 [ACFN])), (2010-01-05 00:00:00, Equity(FIBBG000BB1732 [ACG])), (2010-01-05 00:00:00, Equity(FIBBG000HXNN20 [ACGL])), (2010-01-05 00:00:00, Equity(FIBBG0000092M0 [ACGLO])), (2010-01-05 00:00:00, Equity(FIBBG000008PD0 [ACGLP])), (2010-01-05 00:00:00, Equity(FIBBG000CMRVH1 [ACH])), (2010-01-05 00:00:00, Equity(FIBBG000BPPV05 [ACHN])), (2010-01-05 00:00:00, Equity(FIBBG000FB8S62 [ACHV])), (2010-01-05 00:00:00, Equity(FIBBG000PMBV39 [ACIW])), (2010-01-05 00:00:00, Equity(FIBBG000DQ1D34 [ACL])), (2010-01-05 00:00:00, Equity(FIBBG000QTH7H5 [ACLI])), (2010-01-05 00:00:00, Equity(FIBBG000DW34S2 [ACLS])), (2010-01-05 00:00:00, Equity(FIBBG000F61RJ8 [ACM])), (2010-01-05 00:00:00, Equity(FIBBG000BSXFL2 [ACMR])), (2010-01-05 00:00:00, Equity(FIBBG000D9D830 [ACN])), (2010-01-05 00:00:00, Equity(FIBBG000C2LGN7 [ACO])), (2010-01-05 00:00:00, Equity(FIBBG000P0DBL9 [ACOM])), (2010-01-05 00:00:00, Equity(FIBBG000FD10V8 [ACOR])), (2010-01-05 00:00:00, Equity(FIBBG000HK4RX6 [ACR])), (2010-01-05 00:00:00, Equity(FIBBG000J8CD72 [ACS])), (2010-01-05 00:00:00, Equity(FIBBG000BB7923 [ACTA])), (2010-01-05 00:00:00, Equity(FIBBG000KF9J02 [ACTG])), (2010-01-05 00:00:00, Equity(FIBBG000PNRF80 [ACTI])), (2010-01-05 00:00:00, Equity(FIBBG000BJ31T8 [ACTL])), (2010-01-05 00:00:00, Equity(FIBBG000F80PN4 [ACTS])), (2010-01-05 00:00:00, Equity(FIBBG000BB3LM8 [ACU])), (2010-01-05 00:00:00, Equity(FIBBG000J0MK45 [ACUR])), (2010-01-05 00:00:00, Equity(FIBBG000BB41G8 [ACV])), (2010-01-05 00:00:00, Equity(FIBBG000TH6VB3 [ACWI])), (2010-01-05 00:00:00, Equity(FIBBG000TH7DF8 [ACWX])), (2010-01-05 00:00:00, Equity(QE000000122140 [ACXM])), (2010-01-05 00:00:00, Equity(FIBBG000B9WP24 [MPU])), (2010-01-05 00:00:00, Equity(FIBBG000FHTP62 [ADAM])), (2010-01-05 00:00:00, Equity(FIBBG000CG2ZW5 [ADAT])), (2010-01-05 00:00:00, Equity(FIBBG000BB5006 [ADBE])), (2010-01-05 00:00:00, Equity(FIBBG000BC9DK0 [ADC])), (2010-01-05 00:00:00, Equity(FIBBG000BB5HV5 [ADCT])), (2010-01-05 00:00:00, Equity(FIBBG000FQYSY9 [ADEP])), (2010-01-05 00:00:00, Equity(FIBBG000JFNL85 [ARQ])), (2010-01-05 00:00:00, Equity(FIBBG000CWFQT0 [ADG])), (2010-01-05 00:00:00, Equity(FIBBG000B9WLK3 [ADGE])), (2010-01-05 00:00:00, Equity(FIBBG000BNKLH9 [ADGF])), (2010-01-05 00:00:00, Equity(FIBBG000BB6G37 [ADI])), (2010-01-05 00:00:00, Equity(FIBBG000PYP3D9 [ADK])), ...]\n",
       "\n",
       "[7841 rows x 0 columns]"
      ]
     },
     "execution_count": 7,
     "metadata": {},
     "output_type": "execute_result"
    }
   ],
   "source": [
    "result"
   ]
  },
  {
   "cell_type": "markdown",
   "metadata": {},
   "source": [
    "The output of an empty pipeline is a DataFrame with no columns. In this example, our pipeline has an index made up of all ~8000 securities (truncated in the display) for Jan 5th, 2010, but doesn't have any columns.\n",
    "\n",
    "In the following lessons, we'll take a look at how to add columns to our pipeline output, and how to filter down to a subset of securities."
   ]
  },
  {
   "cell_type": "markdown",
   "metadata": {},
   "source": [
    "---\n",
    "\n",
    "**Next Lesson:** [Factors](Lesson04-Factors.ipynb) "
   ]
  }
 ],
 "metadata": {
  "kernelspec": {
   "display_name": "Python 3.11",
   "language": "python",
   "name": "python3"
  },
  "language_info": {
   "codemirror_mode": {
    "name": "ipython",
    "version": 3
   },
   "file_extension": ".py",
   "mimetype": "text/x-python",
   "name": "python",
   "nbconvert_exporter": "python",
   "pygments_lexer": "ipython3",
   "version": "3.11.0"
  }
 },
 "nbformat": 4,
 "nbformat_minor": 4
}
