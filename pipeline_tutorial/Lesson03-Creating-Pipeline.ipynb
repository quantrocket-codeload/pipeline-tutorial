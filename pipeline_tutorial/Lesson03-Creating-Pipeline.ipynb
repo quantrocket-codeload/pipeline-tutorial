{
 "cells": [
  {
   "cell_type": "markdown",
   "metadata": {},
   "source": [
    "<img alt=\"QuantRocket logo\" src=\"https://www.quantrocket.com/assets/img/notebook-header-logo.png\">\n",
    "\n",
    "<a href=\"https://www.quantrocket.com/disclaimer/\">Disclaimer</a>"
   ]
  },
  {
   "cell_type": "markdown",
   "metadata": {},
   "source": [
    "# Creating a Pipeline\n",
    "\n",
    "In this lesson, we will take a look at creating an empty pipeline. First, let's import the Pipeline class:"
   ]
  },
  {
   "cell_type": "code",
   "execution_count": 1,
   "metadata": {},
   "outputs": [],
   "source": [
    "from zipline.pipeline import Pipeline"
   ]
  },
  {
   "cell_type": "markdown",
   "metadata": {},
   "source": [
    "In a new cell, let's define a function to create our pipeline. Wrapping our pipeline creation in a function sets up a structure for more complex pipelines that we will see later on. For now, this function simply returns an empty pipeline:"
   ]
  },
  {
   "cell_type": "code",
   "execution_count": 2,
   "metadata": {},
   "outputs": [],
   "source": [
    "def make_pipeline():\n",
    "    return Pipeline()"
   ]
  },
  {
   "cell_type": "markdown",
   "metadata": {},
   "source": [
    "In a new cell, let's instantiate our pipeline by running `make_pipeline()`:"
   ]
  },
  {
   "cell_type": "code",
   "execution_count": 3,
   "metadata": {
    "collapsed": false,
    "jupyter": {
     "outputs_hidden": false
    }
   },
   "outputs": [],
   "source": [
    "my_pipe = make_pipeline()"
   ]
  },
  {
   "cell_type": "markdown",
   "metadata": {},
   "source": [
    "## Running a Pipeline\n",
    "\n",
    "Now that we have a reference to an empty Pipeline, `my_pipe`, let's run it to see what it looks like. Before running our pipeline, we first need to import `run_pipeline`, a research-only function that allows us to run a pipeline over a specified time period."
   ]
  },
  {
   "cell_type": "code",
   "execution_count": 4,
   "metadata": {},
   "outputs": [],
   "source": [
    "from zipline.research import run_pipeline"
   ]
  },
  {
   "cell_type": "markdown",
   "metadata": {},
   "source": [
    "Since we will be using the same data bundle repeatedly in this tutorial, we can set it as the default bundle to avoid always having to type the name of the bundle in each call to `run_pipeline`:"
   ]
  },
  {
   "cell_type": "code",
   "execution_count": 5,
   "metadata": {},
   "outputs": [
    {
     "data": {
      "text/plain": [
       "{'status': 'successfully set default bundle'}"
      ]
     },
     "execution_count": 5,
     "metadata": {},
     "output_type": "execute_result"
    }
   ],
   "source": [
    "from quantrocket.zipline import set_default_bundle\n",
    "set_default_bundle(\"usstock-1min\")"
   ]
  },
  {
   "cell_type": "markdown",
   "metadata": {},
   "source": [
    "Let's run our pipeline for one day (2015-05-05) with `run_pipeline` and display it."
   ]
  },
  {
   "cell_type": "code",
   "execution_count": 6,
   "metadata": {
    "collapsed": false,
    "jupyter": {
     "outputs_hidden": false
    }
   },
   "outputs": [],
   "source": [
    "result = run_pipeline(my_pipe, start_date='2015-05-05', end_date='2015-05-05')"
   ]
  },
  {
   "cell_type": "markdown",
   "metadata": {},
   "source": [
    "A call to `run_pipeline` returns a pandas DataFrame indexed by date and security. Let's see what the empty pipeline looks like:"
   ]
  },
  {
   "cell_type": "code",
   "execution_count": 7,
   "metadata": {
    "collapsed": false,
    "jupyter": {
     "outputs_hidden": false
    },
    "scrolled": true
   },
   "outputs": [
    {
     "data": {
      "text/html": [
       "<div>\n",
       "<style scoped>\n",
       "    .dataframe tbody tr th:only-of-type {\n",
       "        vertical-align: middle;\n",
       "    }\n",
       "\n",
       "    .dataframe tbody tr th {\n",
       "        vertical-align: top;\n",
       "    }\n",
       "\n",
       "    .dataframe thead th {\n",
       "        text-align: right;\n",
       "    }\n",
       "</style>\n",
       "<table border=\"1\" class=\"dataframe\">\n",
       "  <thead>\n",
       "    <tr style=\"text-align: right;\">\n",
       "      <th></th>\n",
       "      <th></th>\n",
       "    </tr>\n",
       "  </thead>\n",
       "  <tbody>\n",
       "    <tr>\n",
       "      <th rowspan=\"61\" valign=\"top\">2015-05-05 00:00:00+00:00</th>\n",
       "      <th>Equity(FIBBG000C2V3D6 [A])</th>\n",
       "    </tr>\n",
       "    <tr>\n",
       "      <th>Equity(FIBBG00B3T3HD3 [AA])</th>\n",
       "    </tr>\n",
       "    <tr>\n",
       "      <th>Equity(QI000000004076 [AABA])</th>\n",
       "    </tr>\n",
       "    <tr>\n",
       "      <th>Equity(FIBBG006T1NZ18 [AAC])</th>\n",
       "    </tr>\n",
       "    <tr>\n",
       "      <th>Equity(FIBBG001B9VR83 [AAC])</th>\n",
       "    </tr>\n",
       "    <tr>\n",
       "      <th>Equity(FIBBG000V2S3P6 [AACG])</th>\n",
       "    </tr>\n",
       "    <tr>\n",
       "      <th>Equity(FIBBG000BDYRW6 [AADR])</th>\n",
       "    </tr>\n",
       "    <tr>\n",
       "      <th>Equity(FIBBG002MYG6B3 [AAIT])</th>\n",
       "    </tr>\n",
       "    <tr>\n",
       "      <th>Equity(FIBBG005P7Q881 [AAL])</th>\n",
       "    </tr>\n",
       "    <tr>\n",
       "      <th>Equity(FIBBG003PNL136 [AAMC])</th>\n",
       "    </tr>\n",
       "    <tr>\n",
       "      <th>Equity(FIBBG000B9XB24 [AAME])</th>\n",
       "    </tr>\n",
       "    <tr>\n",
       "      <th>Equity(FIBBG000D9V7T4 [AAN])</th>\n",
       "    </tr>\n",
       "    <tr>\n",
       "      <th>Equity(FIBBG000D6VW15 [AAOI])</th>\n",
       "    </tr>\n",
       "    <tr>\n",
       "      <th>Equity(FIBBG000C2LZP3 [AAON])</th>\n",
       "    </tr>\n",
       "    <tr>\n",
       "      <th>Equity(FIBBG000F7RCJ1 [AAP])</th>\n",
       "    </tr>\n",
       "    <tr>\n",
       "      <th>Equity(FIBBG008651TF3 [AAPC])</th>\n",
       "    </tr>\n",
       "    <tr>\n",
       "      <th>Equity(FIBBG000B9XRY4 [AAPL])</th>\n",
       "    </tr>\n",
       "    <tr>\n",
       "      <th>Equity(FIBBG00161BCR0 [AAT])</th>\n",
       "    </tr>\n",
       "    <tr>\n",
       "      <th>Equity(FIBBG000DGFSY4 [AAU])</th>\n",
       "    </tr>\n",
       "    <tr>\n",
       "      <th>Equity(FIBBG000C5QZ62 [AAV])</th>\n",
       "    </tr>\n",
       "    <tr>\n",
       "      <th>Equity(FIBBG000Q57YP0 [AAWW])</th>\n",
       "    </tr>\n",
       "    <tr>\n",
       "      <th>Equity(FIBBG000G6GXC5 [AAXJ])</th>\n",
       "    </tr>\n",
       "    <tr>\n",
       "      <th>Equity(FIBBG000BHJWG1 [AAXN])</th>\n",
       "    </tr>\n",
       "    <tr>\n",
       "      <th>Equity(FIBBG000B9WM03 [AB])</th>\n",
       "    </tr>\n",
       "    <tr>\n",
       "      <th>Equity(FIBBG000CP4WX9 [ABAX])</th>\n",
       "    </tr>\n",
       "    <tr>\n",
       "      <th>Equity(FIBBG000DK5Q25 [ABB])</th>\n",
       "    </tr>\n",
       "    <tr>\n",
       "      <th>Equity(FIBBG0025Y4RY4 [ABBV])</th>\n",
       "    </tr>\n",
       "    <tr>\n",
       "      <th>Equity(FIBBG000MDCQC2 [ABC])</th>\n",
       "    </tr>\n",
       "    <tr>\n",
       "      <th>Equity(FIBBG000CDY3H5 [ABCB])</th>\n",
       "    </tr>\n",
       "    <tr>\n",
       "      <th>Equity(FIBBG000Q05Q43 [ABCD])</th>\n",
       "    </tr>\n",
       "    <tr>\n",
       "      <th>...</th>\n",
       "    </tr>\n",
       "    <tr>\n",
       "      <th>Equity(FIBBG004HQMCJ4 [ZIONN])</th>\n",
       "    </tr>\n",
       "    <tr>\n",
       "      <th>Equity(FIBBG0043FW0J8 [ZIONO])</th>\n",
       "    </tr>\n",
       "    <tr>\n",
       "      <th>Equity(FIBBG000002FJ2 [ZIONP])</th>\n",
       "    </tr>\n",
       "    <tr>\n",
       "      <th>Equity(FIBBG000RMX9Z7 [ZIONW])</th>\n",
       "    </tr>\n",
       "    <tr>\n",
       "      <th>Equity(FIBBG000PQQH62 [ZIONZ])</th>\n",
       "    </tr>\n",
       "    <tr>\n",
       "      <th>Equity(FIBBG000FWCC57 [ZIOP])</th>\n",
       "    </tr>\n",
       "    <tr>\n",
       "      <th>Equity(FIBBG0019HMFX6 [ZIV])</th>\n",
       "    </tr>\n",
       "    <tr>\n",
       "      <th>Equity(FIBBG000H04C72 [ZIXI])</th>\n",
       "    </tr>\n",
       "    <tr>\n",
       "      <th>Equity(FIBBG006MJFPW3 [ZJPN])</th>\n",
       "    </tr>\n",
       "    <tr>\n",
       "      <th>Equity(FIBBG007XHN059 [ZLRG])</th>\n",
       "    </tr>\n",
       "    <tr>\n",
       "      <th>Equity(FIBBG001J2P4Y9 [ZLTQ])</th>\n",
       "    </tr>\n",
       "    <tr>\n",
       "      <th>Equity(FIBBG005WX1JJ7 [ZMLP])</th>\n",
       "    </tr>\n",
       "    <tr>\n",
       "      <th>Equity(FIBBG000RFZLM7 [ZN])</th>\n",
       "    </tr>\n",
       "    <tr>\n",
       "      <th>Equity(FIBBG000VD6768 [ZNGA])</th>\n",
       "    </tr>\n",
       "    <tr>\n",
       "      <th>Equity(FIBBG000BXQ7R1 [ZNH])</th>\n",
       "    </tr>\n",
       "    <tr>\n",
       "      <th>Equity(FIBBG0064MY238 [ZOES])</th>\n",
       "    </tr>\n",
       "    <tr>\n",
       "      <th>Equity(FIBBG006G0NHM1 [ZPIN])</th>\n",
       "    </tr>\n",
       "    <tr>\n",
       "      <th>Equity(FIBBG000FTMSF7 [ZQK])</th>\n",
       "    </tr>\n",
       "    <tr>\n",
       "      <th>Equity(FIBBG000PN8QP8 [ZROZ])</th>\n",
       "    </tr>\n",
       "    <tr>\n",
       "      <th>Equity(FIBBG006TL19Y0 [ZSAN])</th>\n",
       "    </tr>\n",
       "    <tr>\n",
       "      <th>Equity(FIBBG000F9CW36 [ZSL])</th>\n",
       "    </tr>\n",
       "    <tr>\n",
       "      <th>Equity(FIBBG007XHMYS1 [ZSML])</th>\n",
       "    </tr>\n",
       "    <tr>\n",
       "      <th>Equity(FIBBG003LFL2G1 [ZSPH])</th>\n",
       "    </tr>\n",
       "    <tr>\n",
       "      <th>Equity(FIBBG000BXB8X8 [ZTR])</th>\n",
       "    </tr>\n",
       "    <tr>\n",
       "      <th>Equity(FIBBG0039320N9 [ZTS])</th>\n",
       "    </tr>\n",
       "    <tr>\n",
       "      <th>Equity(FIBBG001Z7M393 [ZU])</th>\n",
       "    </tr>\n",
       "    <tr>\n",
       "      <th>Equity(FIBBG000PYX812 [ZUMZ])</th>\n",
       "    </tr>\n",
       "    <tr>\n",
       "      <th>Equity(FIBBG000C3CQP1 [ZVO])</th>\n",
       "    </tr>\n",
       "    <tr>\n",
       "      <th>Equity(FIBBG001NFC923 [ZX])</th>\n",
       "    </tr>\n",
       "    <tr>\n",
       "      <th>Equity(FIBBG00VT0KNC3 [MTCH])</th>\n",
       "    </tr>\n",
       "  </tbody>\n",
       "</table>\n",
       "<p>8422 rows × 0 columns</p>\n",
       "</div>"
      ],
      "text/plain": [
       "Empty DataFrame\n",
       "Columns: []\n",
       "Index: [(2015-05-05 00:00:00+00:00, Equity(FIBBG000C2V3D6 [A])), (2015-05-05 00:00:00+00:00, Equity(FIBBG00B3T3HD3 [AA])), (2015-05-05 00:00:00+00:00, Equity(QI000000004076 [AABA])), (2015-05-05 00:00:00+00:00, Equity(FIBBG006T1NZ18 [AAC])), (2015-05-05 00:00:00+00:00, Equity(FIBBG001B9VR83 [AAC])), (2015-05-05 00:00:00+00:00, Equity(FIBBG000V2S3P6 [AACG])), (2015-05-05 00:00:00+00:00, Equity(FIBBG000BDYRW6 [AADR])), (2015-05-05 00:00:00+00:00, Equity(FIBBG002MYG6B3 [AAIT])), (2015-05-05 00:00:00+00:00, Equity(FIBBG005P7Q881 [AAL])), (2015-05-05 00:00:00+00:00, Equity(FIBBG003PNL136 [AAMC])), (2015-05-05 00:00:00+00:00, Equity(FIBBG000B9XB24 [AAME])), (2015-05-05 00:00:00+00:00, Equity(FIBBG000D9V7T4 [AAN])), (2015-05-05 00:00:00+00:00, Equity(FIBBG000D6VW15 [AAOI])), (2015-05-05 00:00:00+00:00, Equity(FIBBG000C2LZP3 [AAON])), (2015-05-05 00:00:00+00:00, Equity(FIBBG000F7RCJ1 [AAP])), (2015-05-05 00:00:00+00:00, Equity(FIBBG008651TF3 [AAPC])), (2015-05-05 00:00:00+00:00, Equity(FIBBG000B9XRY4 [AAPL])), (2015-05-05 00:00:00+00:00, Equity(FIBBG00161BCR0 [AAT])), (2015-05-05 00:00:00+00:00, Equity(FIBBG000DGFSY4 [AAU])), (2015-05-05 00:00:00+00:00, Equity(FIBBG000C5QZ62 [AAV])), (2015-05-05 00:00:00+00:00, Equity(FIBBG000Q57YP0 [AAWW])), (2015-05-05 00:00:00+00:00, Equity(FIBBG000G6GXC5 [AAXJ])), (2015-05-05 00:00:00+00:00, Equity(FIBBG000BHJWG1 [AAXN])), (2015-05-05 00:00:00+00:00, Equity(FIBBG000B9WM03 [AB])), (2015-05-05 00:00:00+00:00, Equity(FIBBG000CP4WX9 [ABAX])), (2015-05-05 00:00:00+00:00, Equity(FIBBG000DK5Q25 [ABB])), (2015-05-05 00:00:00+00:00, Equity(FIBBG0025Y4RY4 [ABBV])), (2015-05-05 00:00:00+00:00, Equity(FIBBG000MDCQC2 [ABC])), (2015-05-05 00:00:00+00:00, Equity(FIBBG000CDY3H5 [ABCB])), (2015-05-05 00:00:00+00:00, Equity(FIBBG000Q05Q43 [ABCD])), (2015-05-05 00:00:00+00:00, Equity(FIBBG000CG1LX6 [ABCO])), (2015-05-05 00:00:00+00:00, Equity(FIBBG005YTXRH3 [ABCW])), (2015-05-05 00:00:00+00:00, Equity(FIBBG0064VDP03 [ABDC])), (2015-05-05 00:00:00+00:00, Equity(FIBBG000C24FY6 [ABE])), (2015-05-05 00:00:00+00:00, Equity(FIBBG000DT5D52 [ABEO])), (2015-05-05 00:00:00+00:00, Equity(FIBBG007H0NF79 [ABEOW])), (2015-05-05 00:00:00+00:00, Equity(FIBBG000BN5VZ4 [ABEV])), (2015-05-05 00:00:00+00:00, Equity(FIBBG000BKDWB5 [ABG])), (2015-05-05 00:00:00+00:00, Equity(FIBBG005CZBKF4 [ABGB])), (2015-05-05 00:00:00+00:00, Equity(FIBBG00B3TP3R5 [ABIL])), (2015-05-05 00:00:00+00:00, Equity(FIBBG00B3TPQY6 [ABILW])), (2015-05-05 00:00:00+00:00, Equity(FIBBG000BWNN28 [ABIO])), (2015-05-05 00:00:00+00:00, Equity(FIBBG000B9YYH7 [ABM])), (2015-05-05 00:00:00+00:00, Equity(FIBBG000C101X4 [ABMD])), (2015-05-05 00:00:00+00:00, Equity(FIBBG000KMVDV1 [ABR])), (2015-05-05 00:00:00+00:00, Equity(FIBBG006G58WW3 [ABRN])), (2015-05-05 00:00:00+00:00, Equity(FIBBG0042YL6X1 [ABRPA])), (2015-05-05 00:00:00+00:00, Equity(FIBBG004JF53Q7 [ABRPB])), (2015-05-05 00:00:00+00:00, Equity(FIBBG00610P7D7 [ABRPC])), (2015-05-05 00:00:00+00:00, Equity(FIBBG000B9ZXB4 [ABT])), (2015-05-05 00:00:00+00:00, Equity(FIBBG000RR8V85 [ABUS])), (2015-05-05 00:00:00+00:00, Equity(FIBBG000BHG9K0 [ACAD])), (2015-05-05 00:00:00+00:00, Equity(FIBBG000BYR208 [ACAS])), (2015-05-05 00:00:00+00:00, Equity(FIBBG000BS2LC3 [ACAT])), (2015-05-05 00:00:00+00:00, Equity(FIBBG000M9KP89 [ACC])), (2015-05-05 00:00:00+00:00, Equity(FIBBG000J06K07 [ACCO])), (2015-05-05 00:00:00+00:00, Equity(FIBBG000BG5S59 [ACER])), (2015-05-05 00:00:00+00:00, Equity(FIBBG008GZMLZ8 [ACERW])), (2015-05-05 00:00:00+00:00, Equity(FIBBG000BB0S19 [ACET])), (2015-05-05 00:00:00+00:00, Equity(FIBBG000BP23H4 [ACFC])), (2015-05-05 00:00:00+00:00, Equity(FIBBG000CMY866 [ACFN])), (2015-05-05 00:00:00+00:00, Equity(FIBBG000BB1732 [ACG])), (2015-05-05 00:00:00+00:00, Equity(FIBBG000HXNN20 [ACGL])), (2015-05-05 00:00:00+00:00, Equity(FIBBG0000092M0 [ACGLO])), (2015-05-05 00:00:00+00:00, Equity(FIBBG000008PD0 [ACGLP])), (2015-05-05 00:00:00+00:00, Equity(FIBBG000CMRVH1 [ACH])), (2015-05-05 00:00:00+00:00, Equity(FIBBG000FPNN38 [ACHC])), (2015-05-05 00:00:00+00:00, Equity(FIBBG000BPPV05 [ACHN])), (2015-05-05 00:00:00+00:00, Equity(FIBBG000FB8S62 [ACHV])), (2015-05-05 00:00:00+00:00, Equity(FIBBG000PMBV39 [ACIW])), (2015-05-05 00:00:00+00:00, Equity(FIBBG000DW34S2 [ACLS])), (2015-05-05 00:00:00+00:00, Equity(FIBBG000F61RJ8 [ACM])), (2015-05-05 00:00:00+00:00, Equity(FIBBG000D9D830 [ACN])), (2015-05-05 00:00:00+00:00, Equity(FIBBG000BJ2LY9 [ACNB])), (2015-05-05 00:00:00+00:00, Equity(FIBBG000FD10V8 [ACOR])), (2015-05-05 00:00:00+00:00, Equity(FIBBG0017VSC04 [ACP])), (2015-05-05 00:00:00+00:00, Equity(FIBBG0022MMQB0 [ACRE])), (2015-05-05 00:00:00+00:00, Equity(FIBBG0018YYFX7 [ACRX])), (2015-05-05 00:00:00+00:00, Equity(FIBBG004XQWCG8 [ACSF])), (2015-05-05 00:00:00+00:00, Equity(FIBBG001NMDXS6 [ACST])), (2015-05-05 00:00:00+00:00, Equity(FIBBG00JGGJ4N1 [VICE])), (2015-05-05 00:00:00+00:00, Equity(FIBBG000BB7923 [ACTA])), (2015-05-05 00:00:00+00:00, Equity(FIBBG000KF9J02 [ACTG])), (2015-05-05 00:00:00+00:00, Equity(FIBBG000F80PN4 [ACTS])), (2015-05-05 00:00:00+00:00, Equity(FIBBG008LS9D90 [ACTX])), (2015-05-05 00:00:00+00:00, Equity(FIBBG000BB3LM8 [ACU])), (2015-05-05 00:00:00+00:00, Equity(FIBBG000J0MK45 [ACUR])), (2015-05-05 00:00:00+00:00, Equity(FIBBG000QF2TP4 [ACW])), (2015-05-05 00:00:00+00:00, Equity(FIBBG008LNZHV8 [ACWF])), (2015-05-05 00:00:00+00:00, Equity(FIBBG000TH6VB3 [ACWI])), (2015-05-05 00:00:00+00:00, Equity(FIBBG0025X38X0 [ACWV])), (2015-05-05 00:00:00+00:00, Equity(FIBBG000TH7DF8 [ACWX])), (2015-05-05 00:00:00+00:00, Equity(QE000000122140 [ACXM])), (2015-05-05 00:00:00+00:00, Equity(FIBBG000B9WP24 [ACY])), (2015-05-05 00:00:00+00:00, Equity(FIBBG000CG2ZW5 [ADAT])), (2015-05-05 00:00:00+00:00, Equity(FIBBG000BB5006 [ADBE])), (2015-05-05 00:00:00+00:00, Equity(FIBBG000BC9DK0 [ADC])), (2015-05-05 00:00:00+00:00, Equity(FIBBG000FQYSY9 [ADEP])), (2015-05-05 00:00:00+00:00, Equity(FIBBG000JFNL85 [ADES])), (2015-05-05 00:00:00+00:00, Equity(FIBBG000B9WLK3 [ADGE])), ...]\n",
       "\n",
       "[8422 rows x 0 columns]"
      ]
     },
     "execution_count": 7,
     "metadata": {},
     "output_type": "execute_result"
    }
   ],
   "source": [
    "result"
   ]
  },
  {
   "cell_type": "markdown",
   "metadata": {},
   "source": [
    "The output of an empty pipeline is a DataFrame with no columns. In this example, our pipeline has an index made up of all 8000+ securities (truncated in the display) for May 5th, 2015, but doesn't have any columns.\n",
    "\n",
    "In the following lessons, we'll take a look at how to add columns to our pipeline output, and how to filter down to a subset of securities."
   ]
  },
  {
   "cell_type": "markdown",
   "metadata": {},
   "source": [
    "---\n",
    "\n",
    "**Next Lesson:** [Factors](Lesson04-Factors.ipynb) "
   ]
  }
 ],
 "metadata": {
  "kernelspec": {
   "display_name": " Zipline environment",
   "language": "python",
   "name": "zipline"
  },
  "language_info": {
   "codemirror_mode": {
    "name": "ipython",
    "version": 3
   },
   "file_extension": ".py",
   "mimetype": "text/x-python",
   "name": "python",
   "nbconvert_exporter": "python",
   "pygments_lexer": "ipython3",
   "version": "3.6.2"
  }
 },
 "nbformat": 4,
 "nbformat_minor": 4
}
