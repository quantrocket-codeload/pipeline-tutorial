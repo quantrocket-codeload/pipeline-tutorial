{
 "cells": [
  {
   "cell_type": "markdown",
   "metadata": {},
   "source": [
    "<a href=\"https://www.quantrocket.com\"><img alt=\"QuantRocket logo\" src=\"https://www.quantrocket.com/assets/img/notebook-header-logo.png\"></a>\n",
    "\n",
    "<a href=\"https://www.quantrocket.com/disclaimer/\">Disclaimer</a>"
   ]
  },
  {
   "cell_type": "markdown",
   "metadata": {},
   "source": [
    "***\n",
    "[Pipeline Tutorial](Introduction.ipynb) › Lesson 9: Classifiers\n",
    "***"
   ]
  },
  {
   "cell_type": "markdown",
   "metadata": {},
   "source": [
    "# Classifiers\n",
    "A classifier is a function from an asset and a moment in time to a [categorical output](https://en.wikipedia.org/wiki/Categorical_variable) such as a `string` or `integer` label:\n",
    "\n",
    "```\n",
    "F(asset, timestamp) -> category\n",
    "```\n",
    "\n",
    "An example of a classifier producing a string output is the exchange of a security. To create this classifier, we'll have to import `master.SecuritiesMaster.Exchange` and use the `latest` attribute to instantiate our classifier:"
   ]
  },
  {
   "cell_type": "code",
   "execution_count": 1,
   "metadata": {},
   "outputs": [],
   "source": [
    "from zipline.pipeline import Pipeline, master\n",
    "from zipline.research import run_pipeline\n",
    "from zipline.pipeline.factors import AverageDollarVolume\n",
    "\n",
    "# Since the underlying data of master.SecuritiesMaster.Exchange\n",
    "# is of type string, .latest returns a Classifier\n",
    "exchange = master.SecuritiesMaster.Exchange.latest"
   ]
  },
  {
   "cell_type": "markdown",
   "metadata": {},
   "source": [
    "Previously, we saw that the `latest` attribute produced an instance of a `Factor`. In this case, since the underlying data is of type `string`, `latest` produces a `Classifier`.\n",
    "\n",
    "Similarly, a computation producing the sector of a security is a `Classifier`. To get the sector, we can again use the `SecuritiesMaster` dataset."
   ]
  },
  {
   "cell_type": "code",
   "execution_count": 2,
   "metadata": {
    "collapsed": false,
    "jupyter": {
     "outputs_hidden": false
    }
   },
   "outputs": [],
   "source": [
    "sector = master.SecuritiesMaster.usstock_Sector.latest"
   ]
  },
  {
   "cell_type": "markdown",
   "metadata": {},
   "source": [
    "## Building Filters from Classifiers\n",
    "\n",
    "Classifiers can also be used to produce filters with methods like `isnull`, `eq`, and `startswith`. The full list of `Classifier` methods producing `Filters` can be found in the [API Reference](https://www.quantrocket.com/docs/api/#zipline.pipeline.Classifier).\n",
    "\n",
    "As an example, if we wanted a filter to select for securities trading on the New York Stock Exchange, we can use the `eq` method of our `exchange` classifier."
   ]
  },
  {
   "cell_type": "code",
   "execution_count": 3,
   "metadata": {},
   "outputs": [],
   "source": [
    "nyse_filter = exchange.eq('XNYS')"
   ]
  },
  {
   "cell_type": "markdown",
   "metadata": {},
   "source": [
    "This filter will return `True` for securities having `'XNYS'` as their `Exchange`."
   ]
  },
  {
   "cell_type": "markdown",
   "metadata": {},
   "source": [
    "## Quantiles\n",
    "\n",
    "Classifiers can also be produced from various `Factor` methods. The most general of these is the `quantiles` method which accepts a bin count as an argument. The `quantiles` method assigns a label from 0 to (bins - 1) to every non-NaN data point in the factor output and returns a `Classifier` with these labels. `NaN`s are labeled with -1. Aliases are available for [quartiles](https://www.quantrocket.com/docs/api/#zipline.pipeline.Factor.quartiles) (`quantiles(4)`), [quintiles](https://www.quantrocket.com/docs/api/#zipline.pipeline.Factor.quintiles) (`quantiles(5)`), and [deciles](https://www.quantrocket.com/docs/api/#zipline.pipeline.Factor.deciles) (`quantiles(10)`). As an example, this is what a filter for the top decile of a factor might look like:"
   ]
  },
  {
   "cell_type": "code",
   "execution_count": 4,
   "metadata": {},
   "outputs": [],
   "source": [
    "dollar_volume_decile = AverageDollarVolume(window_length=10).deciles()\n",
    "top_decile = (dollar_volume_decile.eq(9))"
   ]
  },
  {
   "cell_type": "markdown",
   "metadata": {},
   "source": [
    "Let's put each of our classifiers into a pipeline and run it to see what they look like."
   ]
  },
  {
   "cell_type": "code",
   "execution_count": 5,
   "metadata": {
    "collapsed": false,
    "jupyter": {
     "outputs_hidden": false
    }
   },
   "outputs": [],
   "source": [
    "def make_pipeline():\n",
    "    exchange = master.SecuritiesMaster.Exchange.latest\n",
    "    nyse_filter = exchange.eq('XNYS')\n",
    "\n",
    "    sector = master.SecuritiesMaster.usstock_Sector.latest\n",
    "\n",
    "    dollar_volume_decile = AverageDollarVolume(window_length=10).deciles()\n",
    "    top_decile = (dollar_volume_decile.eq(9))\n",
    "\n",
    "    return Pipeline(\n",
    "        columns={\n",
    "            'exchange': exchange,\n",
    "            'sector': sector,\n",
    "            'dollar_volume_decile': dollar_volume_decile\n",
    "        },\n",
    "        screen=(nyse_filter & top_decile)\n",
    "    )"
   ]
  },
  {
   "cell_type": "code",
   "execution_count": 6,
   "metadata": {
    "collapsed": false,
    "jupyter": {
     "outputs_hidden": false
    }
   },
   "outputs": [
    {
     "name": "stdout",
     "output_type": "stream",
     "text": [
      "Number of securities that passed the filter: 497\n"
     ]
    },
    {
     "data": {
      "text/html": [
       "<div>\n",
       "<style scoped>\n",
       "    .dataframe tbody tr th:only-of-type {\n",
       "        vertical-align: middle;\n",
       "    }\n",
       "\n",
       "    .dataframe tbody tr th {\n",
       "        vertical-align: top;\n",
       "    }\n",
       "\n",
       "    .dataframe thead th {\n",
       "        text-align: right;\n",
       "    }\n",
       "</style>\n",
       "<table border=\"1\" class=\"dataframe\">\n",
       "  <thead>\n",
       "    <tr style=\"text-align: right;\">\n",
       "      <th></th>\n",
       "      <th></th>\n",
       "      <th>exchange</th>\n",
       "      <th>sector</th>\n",
       "      <th>dollar_volume_decile</th>\n",
       "    </tr>\n",
       "    <tr>\n",
       "      <th>date</th>\n",
       "      <th>asset</th>\n",
       "      <th></th>\n",
       "      <th></th>\n",
       "      <th></th>\n",
       "    </tr>\n",
       "  </thead>\n",
       "  <tbody>\n",
       "    <tr>\n",
       "      <th rowspan=\"5\" valign=\"top\">2015-05-05 00:00:00+00:00</th>\n",
       "      <th>Equity(FIBBG000C2V3D6 [A])</th>\n",
       "      <td>XNYS</td>\n",
       "      <td>Technology</td>\n",
       "      <td>9</td>\n",
       "    </tr>\n",
       "    <tr>\n",
       "      <th>Equity(FIBBG000F7RCJ1 [AAP])</th>\n",
       "      <td>XNYS</td>\n",
       "      <td>Consumer Discretionary</td>\n",
       "      <td>9</td>\n",
       "    </tr>\n",
       "    <tr>\n",
       "      <th>Equity(FIBBG0025Y4RY4 [ABBV])</th>\n",
       "      <td>XNYS</td>\n",
       "      <td>Health Care</td>\n",
       "      <td>9</td>\n",
       "    </tr>\n",
       "    <tr>\n",
       "      <th>Equity(FIBBG000MDCQC2 [ABC])</th>\n",
       "      <td>XNYS</td>\n",
       "      <td>Health Care</td>\n",
       "      <td>9</td>\n",
       "    </tr>\n",
       "    <tr>\n",
       "      <th>Equity(FIBBG000BN5VZ4 [ABEV])</th>\n",
       "      <td>XNYS</td>\n",
       "      <td>Consumer Staples</td>\n",
       "      <td>9</td>\n",
       "    </tr>\n",
       "  </tbody>\n",
       "</table>\n",
       "</div>"
      ],
      "text/plain": [
       "                                                        exchange  \\\n",
       "date                      asset                                    \n",
       "2015-05-05 00:00:00+00:00 Equity(FIBBG000C2V3D6 [A])        XNYS   \n",
       "                          Equity(FIBBG000F7RCJ1 [AAP])      XNYS   \n",
       "                          Equity(FIBBG0025Y4RY4 [ABBV])     XNYS   \n",
       "                          Equity(FIBBG000MDCQC2 [ABC])      XNYS   \n",
       "                          Equity(FIBBG000BN5VZ4 [ABEV])     XNYS   \n",
       "\n",
       "                                                                         sector  \\\n",
       "date                      asset                                                   \n",
       "2015-05-05 00:00:00+00:00 Equity(FIBBG000C2V3D6 [A])                 Technology   \n",
       "                          Equity(FIBBG000F7RCJ1 [AAP])   Consumer Discretionary   \n",
       "                          Equity(FIBBG0025Y4RY4 [ABBV])             Health Care   \n",
       "                          Equity(FIBBG000MDCQC2 [ABC])              Health Care   \n",
       "                          Equity(FIBBG000BN5VZ4 [ABEV])        Consumer Staples   \n",
       "\n",
       "                                                         dollar_volume_decile  \n",
       "date                      asset                                                \n",
       "2015-05-05 00:00:00+00:00 Equity(FIBBG000C2V3D6 [A])                        9  \n",
       "                          Equity(FIBBG000F7RCJ1 [AAP])                      9  \n",
       "                          Equity(FIBBG0025Y4RY4 [ABBV])                     9  \n",
       "                          Equity(FIBBG000MDCQC2 [ABC])                      9  \n",
       "                          Equity(FIBBG000BN5VZ4 [ABEV])                     9  "
      ]
     },
     "execution_count": 6,
     "metadata": {},
     "output_type": "execute_result"
    }
   ],
   "source": [
    "result = run_pipeline(make_pipeline(), start_date='2015-05-05', end_date='2015-05-05')\n",
    "print(f'Number of securities that passed the filter: {len(result)}')\n",
    "result.head(5)"
   ]
  },
  {
   "cell_type": "markdown",
   "metadata": {},
   "source": [
    "Classifiers are also useful for describing grouping keys for complex transformations on Factor outputs. Grouping operations such as [demean](https://www.quantrocket.com/docs/api/#zipline.pipeline.Factor.demean) are outside the scope of this tutorial."
   ]
  },
  {
   "cell_type": "markdown",
   "metadata": {},
   "source": [
    "---\n",
    "\n",
    "**Next Lesson:** [Datasets](Lesson10-Datasets.ipynb) "
   ]
  }
 ],
 "metadata": {
  "kernelspec": {
   "display_name": "Python 3.9",
   "language": "python",
   "name": "python3"
  },
  "language_info": {
   "codemirror_mode": {
    "name": "ipython",
    "version": 3
   },
   "file_extension": ".py",
   "mimetype": "text/x-python",
   "name": "python",
   "nbconvert_exporter": "python",
   "pygments_lexer": "ipython3",
   "version": "3.9.7"
  }
 },
 "nbformat": 4,
 "nbformat_minor": 4
}
