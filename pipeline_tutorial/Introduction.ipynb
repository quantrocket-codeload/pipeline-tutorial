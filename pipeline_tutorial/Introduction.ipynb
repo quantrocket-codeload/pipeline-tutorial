{
 "cells": [
  {
   "cell_type": "markdown",
   "metadata": {},
   "source": [
    "<img alt=\"QuantRocket logo\" src=\"https://www.quantrocket.com/assets/img/notebook-header-logo.png\">\n",
    "\n",
    "<a href=\"https://www.quantrocket.com/disclaimer/\">Disclaimer</a>"
   ]
  },
  {
   "cell_type": "markdown",
   "metadata": {},
   "source": [
    "# Pipeline API Tutorial\n",
    "\n",
    "This tutorial provides an in-depth walkthrough of Pipeline, an API for filtering and performing computations on large universes of securities. The Pipeline API is part of Zipline but can also be used on a standalone basis. Before completing this tutorial, it is recommended that you start with the `zipline-intro` tutorial in the [Code Library](https://www.quantrocket.com/code/?filter=zipline), which provides a more basic introduction to Zipline and the Pipeline API.\n",
    "\n",
    "Lessons 2-11 were originally created by Quantopian Inc. and released under a Creative Commons license ([GitHub source repo](https://github.com/quantopian/research_public/tree/3bd730f292aa76d7c546f9a400583399030c8f65)). They have been adapted for QuantRocket. \n",
    "  \n",
    "* Lesson 1: [Data Collection](Lesson01-Data-Collection.ipynb)\n",
    "* Lesson 2: [Why Pipeline?](Lesson02-Why-Pipeline.ipynb)\n",
    "* Lesson 3: [Creating a Pipeline](Lesson03-Creating-Pipeline.ipynb)\n",
    "* Lesson 4: [Factors](Lesson04-Factors.ipynb)\n",
    "* Lesson 5: [Combining Factors](Lesson05-Combining-Factors.ipynb)\n",
    "* Lesson 6: [Filters](Lesson06-Filters.ipynb)\n",
    "* Lesson 7: [Combining Filters](Lesson07-Combining-Filters.ipynb)\n",
    "* Lesson 8: [Masking](Lesson08-Masking.ipynb)\n",
    "* Lesson 9: [Classifiers](Lesson09-Classifiers.ipynb)\n",
    "* Lesson 10: [Datasets](Lesson10-Datasets.ipynb)\n",
    "* Lesson 11: [Custom Factors](Lesson11-Custom-Factors.ipynb)\n",
    "* Lesson 12: [Creating the TradableStocksUS Universe](Lesson12-TradableStocksUS-Universe.ipynb)\n",
    "* Lesson 13: [Using Pipeline with Alphalens](Lesson13-Alphalens.ipynb) "
   ]
  },
  {
   "cell_type": "markdown",
   "metadata": {},
   "source": [
    "## License \n",
    "\n",
    "© Lessons 2-11 Copyright Quantopian, Inc.<br>\n",
    "© Lessons 2-11 Modifications Copyright QuantRocket LLC<br>\n",
    "© Other Lessons Copyright QuantRocket LLC\n",
    "\n",
    "Notebooks licensed under the [Creative Commons Attribution 4.0](https://creativecommons.org/licenses/by/4.0/legalcode).<br>\n",
    "Python files licensed under the Apache 2.0 license."
   ]
  }
 ],
 "metadata": {
  "kernelspec": {
   "display_name": "Python 3",
   "language": "python",
   "name": "python3"
  },
  "language_info": {
   "codemirror_mode": {
    "name": "ipython",
    "version": 3
   },
   "file_extension": ".py",
   "mimetype": "text/x-python",
   "name": "python",
   "nbconvert_exporter": "python",
   "pygments_lexer": "ipython3",
   "version": "3.7.6"
  }
 },
 "nbformat": 4,
 "nbformat_minor": 4
}
