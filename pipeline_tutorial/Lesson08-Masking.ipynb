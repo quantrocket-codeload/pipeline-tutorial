{
 "cells": [
  {
   "cell_type": "markdown",
   "metadata": {},
   "source": [
    "<a href=\"https://www.quantrocket.com\"><img alt=\"QuantRocket logo\" src=\"https://www.quantrocket.com/assets/img/notebook-header-logo.png\"></a><br>\n",
    "<a href=\"https://www.quantrocket.com/disclaimer/\">Disclaimer</a>"
   ]
  },
  {
   "cell_type": "markdown",
   "metadata": {},
   "source": [
    "***\n",
    "[Pipeline Tutorial](Introduction.ipynb) › Lesson 8: Masking\n",
    "***"
   ]
  },
  {
   "cell_type": "markdown",
   "metadata": {},
   "source": [
    "# Masking\n",
    "\n",
    "Sometimes we want to ignore certain assets when computing pipeline expresssions. There are two common cases where ignoring assets is useful:\n",
    "1. We want to compute an expression that's computationally expensive, and we know we only care about results for certain assets. An example of such an expensive expression is a `Factor` computing the coefficients of a regression ([RollingLinearRegressionOfReturns](https://www.quantrocket.com/docs/api/#zipline.pipeline.factors.RollingLinearRegressionOfReturns)).\n",
    "2. We want to compute an expression that performs comparisons between assets, but we only want those comparisons to be performed against a subset of all assets. For example, we might want to use the `Factor` method `top` to compute the top 200 assets by earnings yield, ignoring assets that don't meet some liquidity constraint.\n",
    "\n",
    "To support these two use-cases, all `Factors` and many `Factor` methods can accept a mask argument, which must be a `Filter` indicating which assets to consider when computing."
   ]
  },
  {
   "cell_type": "code",
   "execution_count": 1,
   "metadata": {},
   "outputs": [],
   "source": [
    "from zipline.pipeline import Pipeline, EquityPricing\n",
    "from zipline.research import run_pipeline\n",
    "from zipline.pipeline.factors import SimpleMovingAverage, AverageDollarVolume"
   ]
  },
  {
   "cell_type": "markdown",
   "metadata": {},
   "source": [
    "## Masking Factors\n",
    "\n",
    "Let's say we want our pipeline to output securities with a high or low percent difference but we also only want to consider securities with a dollar volume above \\$10,000,000. To do this, let's rearrange our `make_pipeline` function so that we first create the `high_dollar_volume` filter. We can then use this filter as a `mask` for moving average factors by passing `high_dollar_volume` as the `mask` argument to `SimpleMovingAverage`."
   ]
  },
  {
   "cell_type": "code",
   "execution_count": 2,
   "metadata": {
    "collapsed": false,
    "jupyter": {
     "outputs_hidden": false
    }
   },
   "outputs": [],
   "source": [
    "# Dollar volume factor\n",
    "dollar_volume = AverageDollarVolume(window_length=30)\n",
    "\n",
    "# High dollar volume filter\n",
    "high_dollar_volume = (dollar_volume > 10000000)\n",
    "\n",
    "# Average close price factors\n",
    "mean_close_10 = SimpleMovingAverage(inputs=EquityPricing.close, window_length=10, mask=high_dollar_volume)\n",
    "mean_close_30 = SimpleMovingAverage(inputs=EquityPricing.close, window_length=30, mask=high_dollar_volume)\n",
    "\n",
    "# Relative difference factor\n",
    "percent_difference = (mean_close_10 - mean_close_30) / mean_close_30"
   ]
  },
  {
   "cell_type": "markdown",
   "metadata": {},
   "source": [
    "Applying the mask to `SimpleMovingAverage` restricts the average close price factors to a computation over the ~2000 securities passing the `high_dollar_volume` filter, as opposed to ~8000 without a mask. When we combine `mean_close_10` and `mean_close_30` to form `percent_difference`, the computation is performed on the same ~2000 securities."
   ]
  },
  {
   "cell_type": "markdown",
   "metadata": {},
   "source": [
    "## Masking Filters\n",
    "\n",
    "Masks can be also be applied to methods that return filters like `top`, `bottom`, and `percentile_between`.\n",
    "\n",
    "Masks are most useful when we want to apply a filter in the earlier steps of a combined computation. For example, suppose we want to get the 50 securities with the highest open price that are also in the top 10% of dollar volume. Suppose that we then want the 90th-100th percentile of these securities by close price. We can do this with the following:"
   ]
  },
  {
   "cell_type": "code",
   "execution_count": 3,
   "metadata": {
    "collapsed": false,
    "jupyter": {
     "outputs_hidden": false
    }
   },
   "outputs": [],
   "source": [
    "# Dollar volume factor\n",
    "dollar_volume = AverageDollarVolume(window_length=30)\n",
    "\n",
    "# High dollar volume filter\n",
    "high_dollar_volume = dollar_volume.percentile_between(90,100)\n",
    "\n",
    "# Top open price filter (high dollar volume securities)\n",
    "top_open_price = EquityPricing.open.latest.top(50, mask=high_dollar_volume)\n",
    "\n",
    "# Top percentile close price filter (high dollar volume, top 50 open price)\n",
    "high_close_price = EquityPricing.close.latest.percentile_between(90, 100, mask=top_open_price)"
   ]
  },
  {
   "cell_type": "markdown",
   "metadata": {},
   "source": [
    "Let's put this into `make_pipeline` and output an empty pipeline screened with our `high_close_price` filter."
   ]
  },
  {
   "cell_type": "code",
   "execution_count": 4,
   "metadata": {},
   "outputs": [],
   "source": [
    "def make_pipeline():\n",
    "\n",
    "    # Dollar volume factor\n",
    "    dollar_volume = AverageDollarVolume(window_length=30)\n",
    "\n",
    "    # High dollar volume filter\n",
    "    high_dollar_volume = dollar_volume.percentile_between(90,100)\n",
    "\n",
    "    # Top open securities filter (high dollar volume securities)\n",
    "    top_open_price = EquityPricing.open.latest.top(50, mask=high_dollar_volume)\n",
    "\n",
    "    # Top percentile close price filter (high dollar volume, top 50 open price)\n",
    "    high_close_price = EquityPricing.close.latest.percentile_between(90, 100, mask=top_open_price)\n",
    "\n",
    "    return Pipeline(\n",
    "        screen=high_close_price\n",
    "    )"
   ]
  },
  {
   "cell_type": "markdown",
   "metadata": {},
   "source": [
    "Running this pipeline outputs 5 securities on Jan 5th, 2010."
   ]
  },
  {
   "cell_type": "code",
   "execution_count": 5,
   "metadata": {
    "collapsed": false,
    "jupyter": {
     "outputs_hidden": false
    }
   },
   "outputs": [
    {
     "name": "stdout",
     "output_type": "stream",
     "text": [
      "Number of securities that passed the filter: 5\n"
     ]
    },
    {
     "data": {
      "text/html": [
       "<div>\n",
       "<style scoped>\n",
       "    .dataframe tbody tr th:only-of-type {\n",
       "        vertical-align: middle;\n",
       "    }\n",
       "\n",
       "    .dataframe tbody tr th {\n",
       "        vertical-align: top;\n",
       "    }\n",
       "\n",
       "    .dataframe thead th {\n",
       "        text-align: right;\n",
       "    }\n",
       "</style>\n",
       "<table border=\"1\" class=\"dataframe\">\n",
       "  <thead>\n",
       "    <tr style=\"text-align: right;\">\n",
       "      <th></th>\n",
       "      <th></th>\n",
       "    </tr>\n",
       "    <tr>\n",
       "      <th>date</th>\n",
       "      <th>asset</th>\n",
       "    </tr>\n",
       "  </thead>\n",
       "  <tbody>\n",
       "    <tr>\n",
       "      <th rowspan=\"5\" valign=\"top\">2010-01-05</th>\n",
       "      <th>Equity(FIBBG000QXWHD1 [BIDU])</th>\n",
       "    </tr>\n",
       "    <tr>\n",
       "      <th>Equity(FIBBG000DWCFL4 [BRK.A])</th>\n",
       "    </tr>\n",
       "    <tr>\n",
       "      <th>Equity(FIBBG000DWG505 [BRK.B])</th>\n",
       "    </tr>\n",
       "    <tr>\n",
       "      <th>Equity(FIBBG000BHLYP4 [CME])</th>\n",
       "    </tr>\n",
       "    <tr>\n",
       "      <th>Equity(FIBBG009S39JX6 [GOOGL])</th>\n",
       "    </tr>\n",
       "  </tbody>\n",
       "</table>\n",
       "</div>"
      ],
      "text/plain": [
       "Empty DataFrameWithMetadata\n",
       "Columns: []\n",
       "Index: [(2010-01-05 00:00:00, Equity(FIBBG000QXWHD1 [BIDU])), (2010-01-05 00:00:00, Equity(FIBBG000DWCFL4 [BRK.A])), (2010-01-05 00:00:00, Equity(FIBBG000DWG505 [BRK.B])), (2010-01-05 00:00:00, Equity(FIBBG000BHLYP4 [CME])), (2010-01-05 00:00:00, Equity(FIBBG009S39JX6 [GOOGL]))]"
      ]
     },
     "execution_count": 5,
     "metadata": {},
     "output_type": "execute_result"
    }
   ],
   "source": [
    "result = run_pipeline(make_pipeline(), start_date='2010-01-05', end_date='2010-01-05')\n",
    "print(f'Number of securities that passed the filter: {len(result)}')\n",
    "result"
   ]
  },
  {
   "cell_type": "markdown",
   "metadata": {},
   "source": [
    "Note that applying masks in layers as we did above can be thought of as an \"asset funnel\"."
   ]
  },
  {
   "cell_type": "markdown",
   "metadata": {},
   "source": [
    "---\n",
    "\n",
    "**Next Lesson:** [Classifiers](Lesson09-Classifiers.ipynb) "
   ]
  }
 ],
 "metadata": {
  "kernelspec": {
   "display_name": "Python 3.11",
   "language": "python",
   "name": "python3"
  },
  "language_info": {
   "codemirror_mode": {
    "name": "ipython",
    "version": 3
   },
   "file_extension": ".py",
   "mimetype": "text/x-python",
   "name": "python",
   "nbconvert_exporter": "python",
   "pygments_lexer": "ipython3",
   "version": "3.11.0"
  }
 },
 "nbformat": 4,
 "nbformat_minor": 4
}
