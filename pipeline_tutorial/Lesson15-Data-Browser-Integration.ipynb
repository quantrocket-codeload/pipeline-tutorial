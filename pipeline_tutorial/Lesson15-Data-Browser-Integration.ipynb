{
 "cells": [
  {
   "cell_type": "markdown",
   "metadata": {},
   "source": [
    "<a href=\"https://www.quantrocket.com\"><img alt=\"QuantRocket logo\" src=\"https://www.quantrocket.com/assets/img/notebook-header-logo.png\"></a><br>\n",
    "<a href=\"https://www.quantrocket.com/disclaimer/\">Disclaimer</a>"
   ]
  },
  {
   "cell_type": "markdown",
   "metadata": {},
   "source": [
    "***\n",
    "[Pipeline Tutorial](Introduction.ipynb) › Lesson 15: Data Browser Integration\n",
    "***"
   ]
  },
  {
   "cell_type": "markdown",
   "metadata": {},
   "source": [
    "# Browsing Pipeline Output in the Data Browser\n",
    "\n",
    "Pipeline output can be opened in the Data Browser. This allows you to view plots of the pipeline columns you calculated and visualize how the calculated indicators change over time for any given security. The Data Browser also makes it easy to see a breakdown of the types of securities that are passing your pipeline screen so that you can validate your pipeline logic. Are the results concentrated in certain sectors? Do the results include security types that you would rather exclude?"
   ]
  },
  {
   "cell_type": "code",
   "execution_count": 1,
   "metadata": {},
   "outputs": [],
   "source": [
    "from zipline.pipeline import Pipeline, EquityPricing, master\n",
    "from zipline.pipeline.factors import SimpleMovingAverage\n",
    "# import our InitialUniverse and TradableStocksUS functions\n",
    "from codeload.pipeline_tutorial.tradable_stocks import InitialUniverse, TradableStocksUS"
   ]
  },
  {
   "cell_type": "markdown",
   "metadata": {},
   "source": [
    "To demonstrate the Data Browser integration, let's create a Pipeline that includes 3 columns:\n",
    "\n",
    "* The daily closing price\n",
    "* The 200-day moving average of the closing price\n",
    "* A boolean indicator of whether the stock closed above the 200-day moving average that day. In the Data Browser, we can only view numeric columns, so we use the `.as_factor()` method to convert the boolean filter (True or False) into 1 or 0.\n",
    "\n",
    "The universe for the analysis will be the `TradableStocksUS` universe. "
   ]
  },
  {
   "cell_type": "code",
   "execution_count": 2,
   "metadata": {},
   "outputs": [],
   "source": [
    "def make_pipeline():\n",
    "\n",
    "    initial_universe = InitialUniverse()\n",
    "    universe = TradableStocksUS()\n",
    "\n",
    "    # 200-day close price average.\n",
    "    mean_200 = SimpleMovingAverage(inputs=EquityPricing.close, window_length=200, mask=universe)\n",
    "\n",
    "    return Pipeline(\n",
    "        columns={\n",
    "            'close': EquityPricing.close.latest,\n",
    "            '200_ma': mean_200,\n",
    "            'above_200_ma': (EquityPricing.close.latest > mean_200).as_factor()\n",
    "        },\n",
    "        initial_universe=initial_universe,\n",
    "        screen=universe\n",
    "    )"
   ]
  },
  {
   "cell_type": "markdown",
   "metadata": {},
   "source": [
    "Next, we run the pipeline for the date range of interest:"
   ]
  },
  {
   "cell_type": "code",
   "execution_count": 3,
   "metadata": {},
   "outputs": [],
   "source": [
    "from zipline.research import run_pipeline\n",
    "results = run_pipeline(make_pipeline(), start_date=\"2010-01-05\", end_date=\"2011-01-05\")"
   ]
  },
  {
   "cell_type": "markdown",
   "metadata": {},
   "source": [
    "We can then open the pipeline output in the Data Browser by calling the IPython magic command `%browse` followed by the name of the results DataFrame:"
   ]
  },
  {
   "cell_type": "code",
   "execution_count": 4,
   "metadata": {},
   "outputs": [],
   "source": [
    "%browse results"
   ]
  },
  {
   "cell_type": "markdown",
   "metadata": {},
   "source": [
    "See the video below for a walk-through:"
   ]
  },
  {
   "cell_type": "code",
   "execution_count": 5,
   "metadata": {},
   "outputs": [
    {
     "data": {
      "text/html": [
       "\n",
       "        <iframe\n",
       "            width=\"600\"\n",
       "            height=\"450\"\n",
       "            src=\"https://player.vimeo.com/video/920097406\"\n",
       "            frameborder=\"0\"\n",
       "            allowfullscreen\n",
       "            \n",
       "        ></iframe>\n",
       "        "
      ],
      "text/plain": [
       "<IPython.lib.display.VimeoVideo at 0xffff1e8f1a90>"
      ]
     },
     "execution_count": 5,
     "metadata": {},
     "output_type": "execute_result"
    }
   ],
   "source": [
    "from IPython.display import VimeoVideo\n",
    "VimeoVideo('920097406', width=600, height=450)"
   ]
  },
  {
   "cell_type": "markdown",
   "metadata": {},
   "source": [
    "---\n",
    "[Back to Introduction](Introduction.ipynb) "
   ]
  }
 ],
 "metadata": {
  "kernelspec": {
   "display_name": "Python 3.11",
   "language": "python",
   "name": "python3"
  },
  "language_info": {
   "codemirror_mode": {
    "name": "ipython",
    "version": 3
   },
   "file_extension": ".py",
   "mimetype": "text/x-python",
   "name": "python",
   "nbconvert_exporter": "python",
   "pygments_lexer": "ipython3",
   "version": "3.11.0"
  }
 },
 "nbformat": 4,
 "nbformat_minor": 4
}
