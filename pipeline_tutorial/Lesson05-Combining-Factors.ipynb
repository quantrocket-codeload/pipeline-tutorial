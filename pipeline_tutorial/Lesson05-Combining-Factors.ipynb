{
 "cells": [
  {
   "cell_type": "markdown",
   "metadata": {},
   "source": [
    "<a href=\"https://www.quantrocket.com\"><img alt=\"QuantRocket logo\" src=\"https://www.quantrocket.com/assets/img/notebook-header-logo.png\"></a><br>\n",
    "<a href=\"https://www.quantrocket.com/disclaimer/\">Disclaimer</a>"
   ]
  },
  {
   "cell_type": "markdown",
   "metadata": {},
   "source": [
    "***\n",
    "[Pipeline Tutorial](Introduction.ipynb) › Lesson 5: Combining Factors\n",
    "***"
   ]
  },
  {
   "cell_type": "markdown",
   "metadata": {},
   "source": [
    "# Combining Factors\n",
    "\n",
    "Factors can be combined, both with other Factors and with scalar values, via any of the builtin mathematical operators (+, -, \\*, etc). This makes it easy to write complex expressions that combine multiple Factors. For example, constructing a Factor that computes the average of two other Factors is simply:\n",
    "\n",
    "```python\n",
    ">>> f1 = SomeFactor(...)\n",
    ">>> f2 = SomeOtherFactor(...)\n",
    ">>> average = (f1 + f2) / 2.0\n",
    "```\n",
    "\n",
    "In this lesson, we will create a pipeline that creates a `relative_difference` factor by combining a 10-day average factor and a 30-day average factor. \n",
    "\n",
    "As usual, let's start with our imports:"
   ]
  },
  {
   "cell_type": "code",
   "execution_count": 1,
   "metadata": {},
   "outputs": [],
   "source": [
    "from zipline.pipeline import Pipeline, EquityPricing\n",
    "from zipline.research import run_pipeline\n",
    "from zipline.pipeline.factors import SimpleMovingAverage"
   ]
  },
  {
   "cell_type": "markdown",
   "metadata": {},
   "source": [
    "For this example, we need two factors: a 10-day mean close price factor, and a 30-day one:"
   ]
  },
  {
   "cell_type": "code",
   "execution_count": 2,
   "metadata": {
    "collapsed": false,
    "jupyter": {
     "outputs_hidden": false
    }
   },
   "outputs": [],
   "source": [
    "mean_close_10 = SimpleMovingAverage(inputs=EquityPricing.close, window_length=10)\n",
    "mean_close_30 = SimpleMovingAverage(inputs=EquityPricing.close, window_length=30)"
   ]
  },
  {
   "cell_type": "markdown",
   "metadata": {},
   "source": [
    "Then, let's create a percent difference factor by combining our `mean_close_30` factor with our `mean_close_10` factor."
   ]
  },
  {
   "cell_type": "code",
   "execution_count": 3,
   "metadata": {
    "collapsed": false,
    "jupyter": {
     "outputs_hidden": false
    }
   },
   "outputs": [],
   "source": [
    "percent_difference = (mean_close_10 - mean_close_30) / mean_close_30"
   ]
  },
  {
   "cell_type": "markdown",
   "metadata": {},
   "source": [
    "In this example, `percent_difference` is still a `Factor` even though it's composed as a combination of more primitive factors. We can add `percent_difference` as a column in our pipeline. Let's define `make_pipeline` to create a pipeline with `percent_difference` as a column (and not the mean close factors):"
   ]
  },
  {
   "cell_type": "code",
   "execution_count": 4,
   "metadata": {},
   "outputs": [],
   "source": [
    "def make_pipeline():\n",
    "\n",
    "    mean_close_10 = SimpleMovingAverage(inputs=EquityPricing.close, window_length=10)\n",
    "    mean_close_30 = SimpleMovingAverage(inputs=EquityPricing.close, window_length=30)\n",
    "\n",
    "    percent_difference = (mean_close_10 - mean_close_30) / mean_close_30\n",
    "\n",
    "    return Pipeline(\n",
    "        columns={\n",
    "            'percent_difference': percent_difference\n",
    "        }\n",
    "    )"
   ]
  },
  {
   "cell_type": "markdown",
   "metadata": {},
   "source": [
    "Let's see what the new output looks like:"
   ]
  },
  {
   "cell_type": "code",
   "execution_count": 5,
   "metadata": {
    "collapsed": false,
    "jupyter": {
     "outputs_hidden": false
    },
    "scrolled": true
   },
   "outputs": [
    {
     "data": {
      "text/html": [
       "<div>\n",
       "<style scoped>\n",
       "    .dataframe tbody tr th:only-of-type {\n",
       "        vertical-align: middle;\n",
       "    }\n",
       "\n",
       "    .dataframe tbody tr th {\n",
       "        vertical-align: top;\n",
       "    }\n",
       "\n",
       "    .dataframe thead th {\n",
       "        text-align: right;\n",
       "    }\n",
       "</style>\n",
       "<table border=\"1\" class=\"dataframe\">\n",
       "  <thead>\n",
       "    <tr style=\"text-align: right;\">\n",
       "      <th></th>\n",
       "      <th></th>\n",
       "      <th>percent_difference</th>\n",
       "    </tr>\n",
       "    <tr>\n",
       "      <th>date</th>\n",
       "      <th>asset</th>\n",
       "      <th></th>\n",
       "    </tr>\n",
       "  </thead>\n",
       "  <tbody>\n",
       "    <tr>\n",
       "      <th rowspan=\"11\" valign=\"top\">2015-05-05 00:00:00+00:00</th>\n",
       "      <th>Equity(FIBBG000C2V3D6 [A])</th>\n",
       "      <td>0.000209</td>\n",
       "    </tr>\n",
       "    <tr>\n",
       "      <th>Equity(QI000000004076 [AABA])</th>\n",
       "      <td>-0.017429</td>\n",
       "    </tr>\n",
       "    <tr>\n",
       "      <th>Equity(FIBBG006T1NZ18 [AAC])</th>\n",
       "      <td>0.048123</td>\n",
       "    </tr>\n",
       "    <tr>\n",
       "      <th>Equity(FIBBG000V2S3P6 [AACG])</th>\n",
       "      <td>0.052646</td>\n",
       "    </tr>\n",
       "    <tr>\n",
       "      <th>Equity(FIBBG000BDYRW6 [AADR])</th>\n",
       "      <td>0.021066</td>\n",
       "    </tr>\n",
       "    <tr>\n",
       "      <th>...</th>\n",
       "      <td>...</td>\n",
       "    </tr>\n",
       "    <tr>\n",
       "      <th>Equity(FIBBG0001JCK35 [RBSPE])</th>\n",
       "      <td>NaN</td>\n",
       "    </tr>\n",
       "    <tr>\n",
       "      <th>Equity(FIBBG0001JCK44 [RBSPG])</th>\n",
       "      <td>NaN</td>\n",
       "    </tr>\n",
       "    <tr>\n",
       "      <th>Equity(FIBBG0001JCQT4 [RBSPI])</th>\n",
       "      <td>NaN</td>\n",
       "    </tr>\n",
       "    <tr>\n",
       "      <th>Equity(FIBBG007NFXFG8 [UZB])</th>\n",
       "      <td>0.003607</td>\n",
       "    </tr>\n",
       "    <tr>\n",
       "      <th>Equity(FIBBG0046M31Y3 [WMGIZ])</th>\n",
       "      <td>-0.016594</td>\n",
       "    </tr>\n",
       "  </tbody>\n",
       "</table>\n",
       "<p>8292 rows × 1 columns</p>\n",
       "</div>"
      ],
      "text/plain": [
       "                                                          percent_difference\n",
       "date                      asset                                             \n",
       "2015-05-05 00:00:00+00:00 Equity(FIBBG000C2V3D6 [A])                0.000209\n",
       "                          Equity(QI000000004076 [AABA])            -0.017429\n",
       "                          Equity(FIBBG006T1NZ18 [AAC])              0.048123\n",
       "                          Equity(FIBBG000V2S3P6 [AACG])             0.052646\n",
       "                          Equity(FIBBG000BDYRW6 [AADR])             0.021066\n",
       "...                                                                      ...\n",
       "                          Equity(FIBBG0001JCK35 [RBSPE])                 NaN\n",
       "                          Equity(FIBBG0001JCK44 [RBSPG])                 NaN\n",
       "                          Equity(FIBBG0001JCQT4 [RBSPI])                 NaN\n",
       "                          Equity(FIBBG007NFXFG8 [UZB])              0.003607\n",
       "                          Equity(FIBBG0046M31Y3 [WMGIZ])           -0.016594\n",
       "\n",
       "[8292 rows x 1 columns]"
      ]
     },
     "execution_count": 5,
     "metadata": {},
     "output_type": "execute_result"
    }
   ],
   "source": [
    "result = run_pipeline(make_pipeline(), start_date='2015-05-05', end_date='2015-05-05')\n",
    "result"
   ]
  },
  {
   "cell_type": "markdown",
   "metadata": {},
   "source": [
    "---\n",
    "\n",
    "**Next Lesson:** [Filters](Lesson06-Filters.ipynb) "
   ]
  }
 ],
 "metadata": {
  "kernelspec": {
   "display_name": "Python 3.9",
   "language": "python",
   "name": "python3"
  },
  "language_info": {
   "codemirror_mode": {
    "name": "ipython",
    "version": 3
   },
   "file_extension": ".py",
   "mimetype": "text/x-python",
   "name": "python",
   "nbconvert_exporter": "python",
   "pygments_lexer": "ipython3",
   "version": "3.9.7"
  }
 },
 "nbformat": 4,
 "nbformat_minor": 4
}
